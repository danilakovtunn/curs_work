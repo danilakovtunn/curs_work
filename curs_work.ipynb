{
  "nbformat": 4,
  "nbformat_minor": 0,
  "metadata": {
    "colab": {
      "name": "curs_work.ipynb",
      "provenance": [],
      "collapsed_sections": []
    },
    "kernelspec": {
      "name": "python3",
      "display_name": "Python 3"
    },
    "language_info": {
      "name": "python"
    }
  },
  "cells": [
    {
      "cell_type": "markdown",
      "source": [
        "# Анализ метрик полученных из Prometheus с помощью машинного обучения\n",
        "### Загрузка модуля $sktime$ "
      ],
      "metadata": {
        "id": "PTQrNgYD0jgU"
      }
    },
    {
      "cell_type": "code",
      "execution_count": 13,
      "metadata": {
        "id": "uEpp9vExdTZ-",
        "colab": {
          "base_uri": "https://localhost:8080/"
        },
        "outputId": "48a45d9a-8577-49fc-83f9-b98999c35d0b"
      },
      "outputs": [
        {
          "output_type": "stream",
          "name": "stdout",
          "text": [
            "Requirement already satisfied: sktime in /usr/local/lib/python3.7/dist-packages (0.11.4)\n",
            "Requirement already satisfied: pandas<1.5.0,>=1.1.0 in /usr/local/lib/python3.7/dist-packages (from sktime) (1.3.5)\n",
            "Requirement already satisfied: statsmodels>=0.12.1 in /usr/local/lib/python3.7/dist-packages (from sktime) (0.13.2)\n",
            "Requirement already satisfied: deprecated>=1.2.13 in /usr/local/lib/python3.7/dist-packages (from sktime) (1.2.13)\n",
            "Requirement already satisfied: scipy<1.9.0 in /usr/local/lib/python3.7/dist-packages (from sktime) (1.4.1)\n",
            "Requirement already satisfied: numpy<1.22,>=1.21.0 in /usr/local/lib/python3.7/dist-packages (from sktime) (1.21.6)\n",
            "Requirement already satisfied: scikit-learn<1.2.0,>=0.24.0 in /usr/local/lib/python3.7/dist-packages (from sktime) (1.0.2)\n",
            "Requirement already satisfied: numba>=0.53 in /usr/local/lib/python3.7/dist-packages (from sktime) (0.55.1)\n",
            "Requirement already satisfied: wrapt<2,>=1.10 in /usr/local/lib/python3.7/dist-packages (from deprecated>=1.2.13->sktime) (1.14.1)\n",
            "Requirement already satisfied: llvmlite<0.39,>=0.38.0rc1 in /usr/local/lib/python3.7/dist-packages (from numba>=0.53->sktime) (0.38.1)\n",
            "Requirement already satisfied: setuptools in /usr/local/lib/python3.7/dist-packages (from numba>=0.53->sktime) (57.4.0)\n",
            "Requirement already satisfied: pytz>=2017.3 in /usr/local/lib/python3.7/dist-packages (from pandas<1.5.0,>=1.1.0->sktime) (2022.1)\n",
            "Requirement already satisfied: python-dateutil>=2.7.3 in /usr/local/lib/python3.7/dist-packages (from pandas<1.5.0,>=1.1.0->sktime) (2.8.2)\n",
            "Requirement already satisfied: six>=1.5 in /usr/local/lib/python3.7/dist-packages (from python-dateutil>=2.7.3->pandas<1.5.0,>=1.1.0->sktime) (1.15.0)\n",
            "Requirement already satisfied: threadpoolctl>=2.0.0 in /usr/local/lib/python3.7/dist-packages (from scikit-learn<1.2.0,>=0.24.0->sktime) (3.1.0)\n",
            "Requirement already satisfied: joblib>=0.11 in /usr/local/lib/python3.7/dist-packages (from scikit-learn<1.2.0,>=0.24.0->sktime) (1.1.0)\n",
            "Requirement already satisfied: patsy>=0.5.2 in /usr/local/lib/python3.7/dist-packages (from statsmodels>=0.12.1->sktime) (0.5.2)\n",
            "Requirement already satisfied: packaging>=21.3 in /usr/local/lib/python3.7/dist-packages (from statsmodels>=0.12.1->sktime) (21.3)\n",
            "Requirement already satisfied: pyparsing!=3.0.5,>=2.0.2 in /usr/local/lib/python3.7/dist-packages (from packaging>=21.3->statsmodels>=0.12.1->sktime) (3.0.9)\n"
          ]
        }
      ],
      "source": [
        "!pip install sktime"
      ]
    },
    {
      "cell_type": "markdown",
      "source": [
        "### Импорт необходимых модулей"
      ],
      "metadata": {
        "id": "M3Uqn-wU0YFo"
      }
    },
    {
      "cell_type": "code",
      "source": [
        "import os\n",
        "import numpy as np\n",
        "import pandas as pd\n",
        "\n",
        "from sklearn.model_selection import train_test_split\n",
        "from sklearn.pipeline import Pipeline\n",
        "\n",
        "from sktime.classification.compose import ColumnEnsembleClassifier\n",
        "from sktime.classification.distance_based import KNeighborsTimeSeriesClassifier\n",
        "from sktime.classification.interval_based import TimeSeriesForestClassifier\n",
        "from sktime.transformations.panel.compose import ColumnConcatenator\n",
        "from sktime.datatypes._panel._convert import from_2d_array_to_nested"
      ],
      "metadata": {
        "id": "iRopTyEbTReP"
      },
      "execution_count": 14,
      "outputs": []
    },
    {
      "cell_type": "markdown",
      "source": [
        "### Загрузка данных"
      ],
      "metadata": {
        "id": "gtbzFYqaBp34"
      }
    },
    {
      "cell_type": "markdown",
      "source": [
        "#### Считывание данных, полученных с помощью Prometheus с виртуальных машин (train)\n",
        "Данные собраны в 3 состояниях:\n",
        "- \"Пустое\" состояние\n",
        "- Состояние повышенной нагрузки (с помощью утилиты stress)\n",
        "- Состояние полезной нагрузки (работает Prometheus)\n",
        "\n",
        "файлы diam_\\*, rept_\\* - зараженные \\\\\n",
        "Файлы free_\\* - чистые"
      ],
      "metadata": {
        "id": "ZO26CxTY099u"
      }
    },
    {
      "cell_type": "code",
      "source": [
        "fd = []\n",
        "fd.append(pd.read_csv('/content/drive/MyDrive/curs_work/train/diam_1.csv', index_col=0))\n",
        "fd.append(pd.read_csv('/content/drive/MyDrive/curs_work/train/diam_2.csv', index_col=0))\n",
        "fd.append(pd.read_csv('/content/drive/MyDrive/curs_work/train/diam_3.csv', index_col=0))\n",
        "fd.append(pd.read_csv('/content/drive/MyDrive/curs_work/train/rept_1.csv', index_col=0))\n",
        "fd.append(pd.read_csv('/content/drive/MyDrive/curs_work/train/rept_2.csv', index_col=0))\n",
        "fd.append(pd.read_csv('/content/drive/MyDrive/curs_work/train/rept_3.csv', index_col=0))\n",
        "fd.append(pd.read_csv('/content/drive/MyDrive/curs_work/train/free_1.csv', index_col=0))\n",
        "fd.append(pd.read_csv('/content/drive/MyDrive/curs_work/train/free_2.csv', index_col=0))\n",
        "fd.append(pd.read_csv('/content/drive/MyDrive/curs_work/train/free_3.csv', index_col=0))"
      ],
      "metadata": {
        "id": "qXSJcwsOLoQC"
      },
      "execution_count": 15,
      "outputs": []
    },
    {
      "cell_type": "markdown",
      "source": [
        "Разобьем данные с каждой ВМ на 3 части, для дальнейшего обучения"
      ],
      "metadata": {
        "id": "CrbUUKDo1daa"
      }
    },
    {
      "cell_type": "code",
      "source": [
        "enlarged = []\n",
        "for i in fd:\n",
        "    enlarged.append(i.iloc[np.arange(0,40)])\n",
        "    enlarged.append(i.iloc[np.arange(40,80)].reset_index(drop=True))\n",
        "    enlarged.append(i.iloc[np.arange(80,120)].reset_index(drop=True))"
      ],
      "metadata": {
        "id": "oq0Hx0RXS5MK"
      },
      "execution_count": 16,
      "outputs": []
    },
    {
      "cell_type": "markdown",
      "source": [
        "##### Перевод данных из pandas DataFrame в тип данных, необходимый для работы с модулем sktime"
      ],
      "metadata": {
        "id": "nB6hWGPE1na1"
      }
    },
    {
      "cell_type": "code",
      "source": [
        "sk_frame = from_2d_array_to_nested(enlarged[0].T).T\n",
        "for i in np.arange(1, len(enlarged)):\n",
        "    sk_frame = sk_frame.append(from_2d_array_to_nested(enlarged[i].T).T)"
      ],
      "metadata": {
        "id": "axU862fIZZnm"
      },
      "execution_count": 17,
      "outputs": []
    },
    {
      "cell_type": "code",
      "source": [
        "sk_frame.columns = enlarged[0].columns\n",
        "sk_frame = sk_frame.reset_index(drop=True)\n",
        "sk_frame = sk_frame.reindex(np.concatenate((np.arange(0,27,3), np.arange(1,27,3), np.arange(2,27,3))))\n",
        "sk_frame = sk_frame.reset_index(drop=True)\n",
        "sk_frame.head(5)\n"
      ],
      "metadata": {
        "colab": {
          "base_uri": "https://localhost:8080/",
          "height": 369
        },
        "id": "gvh7_rvqlKRq",
        "outputId": "2a218058-de5d-42ed-f3ed-14c796451574"
      },
      "execution_count": 18,
      "outputs": [
        {
          "output_type": "execute_result",
          "data": {
            "text/plain": [
              "     libvirt_domain_block_stats_flush_requests_total  \\\n",
              "0  0     51896.0\n",
              "1     51896.0\n",
              "2     51908.0\n",
              "3   ...   \n",
              "1  0     24780672.0\n",
              "1     26145937.0\n",
              "2     276454...   \n",
              "2  0     217333486.0\n",
              "1     217333494.0\n",
              "2     2173...   \n",
              "3  0     52634.0\n",
              "1     52638.0\n",
              "2     52638.0\n",
              "3   ...   \n",
              "4  0     15871504.0\n",
              "1     17405784.0\n",
              "2     190254...   \n",
              "\n",
              "  libvirt_domain_block_stats_flush_time_seconds_total  \\\n",
              "0  0     3.812795\n",
              "1     3.812795\n",
              "2     3.814651\n",
              "3...    \n",
              "1  0     208.361958\n",
              "1     219.678610\n",
              "2     232.07...    \n",
              "2  0     1745.715011\n",
              "1     1745.716272\n",
              "2     1745...    \n",
              "3  0     3.719479\n",
              "1     3.720177\n",
              "2     3.720177\n",
              "3...    \n",
              "4  0     131.631761\n",
              "1     143.894649\n",
              "2     156.57...    \n",
              "\n",
              "         libvirt_domain_block_stats_read_bytes_total  \\\n",
              "0  0     1.046134e+09\n",
              "1     1.046134e+09\n",
              "2     1....   \n",
              "1  0     1.107918e+09\n",
              "1     1.107918e+09\n",
              "2     1....   \n",
              "2  0     1.290030e+09\n",
              "1     1.290067e+09\n",
              "2     1....   \n",
              "3  0     961037312.0\n",
              "1     961037312.0\n",
              "2     9610...   \n",
              "4  0     980214784.0\n",
              "1     980214784.0\n",
              "2     9802...   \n",
              "\n",
              "      libvirt_domain_block_stats_read_requests_total  \\\n",
              "0  0     48260.0\n",
              "1     48260.0\n",
              "2     48260.0\n",
              "3   ...   \n",
              "1  0     60581.0\n",
              "1     60581.0\n",
              "2     60581.0\n",
              "3   ...   \n",
              "2  0     62469.0\n",
              "1     62473.0\n",
              "2     62473.0\n",
              "3   ...   \n",
              "3  0     44975.0\n",
              "1     44975.0\n",
              "2     44975.0\n",
              "3   ...   \n",
              "4  0     46481.0\n",
              "1     46481.0\n",
              "2     46481.0\n",
              "3   ...   \n",
              "\n",
              "  libvirt_domain_block_stats_read_time_seconds_total  \\\n",
              "0  0     140.977919\n",
              "1     140.977919\n",
              "2     140.97...   \n",
              "1  0     161.944016\n",
              "1     161.944016\n",
              "2     161.94...   \n",
              "2  0     166.998447\n",
              "1     167.065036\n",
              "2     167.06...   \n",
              "3  0     147.13808\n",
              "1     147.13808\n",
              "2     147.1380...   \n",
              "4  0     155.539272\n",
              "1     155.539272\n",
              "2     155.53...   \n",
              "\n",
              "        libvirt_domain_block_stats_write_bytes_total  \\\n",
              "0  0     5.335634e+09\n",
              "1     5.335634e+09\n",
              "2     5....   \n",
              "1  0     5.486572e+09\n",
              "1     5.486572e+09\n",
              "2     5....   \n",
              "2  0     6.043132e+09\n",
              "1     6.043615e+09\n",
              "2     6....   \n",
              "3  0     5.431456e+09\n",
              "1     5.431472e+09\n",
              "2     5....   \n",
              "4  0     5.811597e+09\n",
              "1     5.811597e+09\n",
              "2     5....   \n",
              "\n",
              "     libvirt_domain_block_stats_write_requests_total  \\\n",
              "0  0     75123.0\n",
              "1     75123.0\n",
              "2     75191.0\n",
              "3   ...   \n",
              "1  0     92736.0\n",
              "1     92736.0\n",
              "2     92736.0\n",
              "3   ...   \n",
              "2  0     111134.0\n",
              "1     111204.0\n",
              "2     111217.0\n",
              "3...   \n",
              "3  0     82255.0\n",
              "1     82258.0\n",
              "2     82259.0\n",
              "3   ...   \n",
              "4  0     111165.0\n",
              "1     111165.0\n",
              "2     111165.0\n",
              "3...   \n",
              "\n",
              "  libvirt_domain_block_stats_write_time_seconds_total  \\\n",
              "0  0     136.586810\n",
              "1     136.586810\n",
              "2     136.61...    \n",
              "1  0     214.482965\n",
              "1     214.482965\n",
              "2     214.48...    \n",
              "2  0     226.401918\n",
              "1     226.440294\n",
              "2     226.44...    \n",
              "3  0     114.547265\n",
              "1     114.548299\n",
              "2     114.54...    \n",
              "4  0     139.674985\n",
              "1     139.674985\n",
              "2     139.67...    \n",
              "\n",
              "          libvirt_domain_info_cpu_time_seconds_total  \\\n",
              "0  0     7242.05\n",
              "1     7245.63\n",
              "2     7249.16\n",
              "3   ...   \n",
              "1  0     13493.85\n",
              "1     13642.20\n",
              "2     13793.26\n",
              "3...   \n",
              "2  0     32085.56\n",
              "1     32089.23\n",
              "2     32092.89\n",
              "3...   \n",
              "3  0     7192.28\n",
              "1     7195.84\n",
              "2     7199.23\n",
              "3   ...   \n",
              "4  0     12577.01\n",
              "1     12728.06\n",
              "2     12880.53\n",
              "3...   \n",
              "\n",
              "              libvirt_domain_info_memory_usage_bytes  ...  \\\n",
              "0  0     1.073742e+09\n",
              "1     1.073742e+09\n",
              "2     1....  ...   \n",
              "1  0     1.073742e+09\n",
              "1     1.073742e+09\n",
              "2     1....  ...   \n",
              "2  0     1.073742e+09\n",
              "1     1.073742e+09\n",
              "2     1....  ...   \n",
              "3  0     1.073742e+09\n",
              "1     1.073742e+09\n",
              "2     1....  ...   \n",
              "4  0     1.073742e+09\n",
              "1     1.073742e+09\n",
              "2     1....  ...   \n",
              "\n",
              "  libvirt_domain_interface_stats_transmit_packets_total   \\\n",
              "0  0     52300.0\n",
              "1     52321.0\n",
              "2     52371.0\n",
              "3   ...       \n",
              "1  0     82356.0\n",
              "1     82380.0\n",
              "2     82395.0\n",
              "3   ...       \n",
              "2  0     115307.0\n",
              "1     115318.0\n",
              "2     115325.0\n",
              "3...       \n",
              "3  0     51890.0\n",
              "1     51908.0\n",
              "2     51936.0\n",
              "3   ...       \n",
              "4  0     82599.0\n",
              "1     82620.0\n",
              "2     82643.0\n",
              "3   ...       \n",
              "\n",
              "        libvirt_domain_memory_stats_disk_cache_bytes  \\\n",
              "0  0     0.0\n",
              "1     0.0\n",
              "2     0.0\n",
              "3     0.0\n",
              "4     ...   \n",
              "1  0     0.0\n",
              "1     0.0\n",
              "2     0.0\n",
              "3     0.0\n",
              "4     ...   \n",
              "2  0     0.0\n",
              "1     0.0\n",
              "2     0.0\n",
              "3     0.0\n",
              "4     ...   \n",
              "3  0     0.0\n",
              "1     0.0\n",
              "2     0.0\n",
              "3     0.0\n",
              "4     ...   \n",
              "4  0     0.0\n",
              "1     0.0\n",
              "2     0.0\n",
              "3     0.0\n",
              "4     ...   \n",
              "\n",
              "       libvirt_domain_memory_stats_major_fault_total  \\\n",
              "0  0     3810.0\n",
              "1     3810.0\n",
              "2     3810.0\n",
              "3     3...   \n",
              "1  0     3960.0\n",
              "1     3960.0\n",
              "2     3960.0\n",
              "3     3...   \n",
              "2  0     4042.0\n",
              "1     4043.0\n",
              "2     4043.0\n",
              "3     4...   \n",
              "3  0     2339.0\n",
              "1     2339.0\n",
              "2     2339.0\n",
              "3     2...   \n",
              "4  0     2421.0\n",
              "1     2421.0\n",
              "2     2421.0\n",
              "3     2...   \n",
              "\n",
              "       libvirt_domain_memory_stats_minor_fault_total  \\\n",
              "0  0     22545435.0\n",
              "1     22545435.0\n",
              "2     225471...   \n",
              "1  0     138040414.0\n",
              "1     145709580.0\n",
              "2     1527...   \n",
              "2  0     1.066024e+09\n",
              "1     1.066025e+09\n",
              "2     1....   \n",
              "3  0     18651846.0\n",
              "1     18651846.0\n",
              "2     186518...   \n",
              "4  0      93421994.0\n",
              "1     101188184.0\n",
              "2     1089...   \n",
              "\n",
              "               libvirt_domain_memory_stats_rss_bytes  \\\n",
              "0  0     1.121731e+09\n",
              "1     1.121731e+09\n",
              "2     1....   \n",
              "1  0     1.121944e+09\n",
              "1     1.121944e+09\n",
              "2     1....   \n",
              "2  0     1.121886e+09\n",
              "1     1.121886e+09\n",
              "2     1....   \n",
              "3  0     1.119650e+09\n",
              "1     1.119650e+09\n",
              "2     1....   \n",
              "4  0     1.119658e+09\n",
              "1     1.119658e+09\n",
              "2     1....   \n",
              "\n",
              "            libvirt_domain_memory_stats_unused_bytes  \\\n",
              "0  0     163254272.0\n",
              "1     163287040.0\n",
              "2     1637...   \n",
              "1  0     408174592.0\n",
              "1     536453120.0\n",
              "2     3890...   \n",
              "2  0     162742272.0\n",
              "1     162504704.0\n",
              "2     1625...   \n",
              "3  0     193613824.0\n",
              "1     193646592.0\n",
              "2     1936...   \n",
              "4  0     253440000.0\n",
              "1     242671616.0\n",
              "2     4057...   \n",
              "\n",
              "            libvirt_domain_memory_stats_usable_bytes  \\\n",
              "0  0     768663552.0\n",
              "1     768696320.0\n",
              "2     7692...   \n",
              "1  0     618303488.0\n",
              "1     746582016.0\n",
              "2     5991...   \n",
              "2  0     753201152.0\n",
              "1     753078272.0\n",
              "2     7530...   \n",
              "3  0     769568768.0\n",
              "1     769601536.0\n",
              "2     7696...   \n",
              "4  0     564498432.0\n",
              "1     553172992.0\n",
              "2     7162...   \n",
              "\n",
              "            libvirt_domain_memory_stats_used_percent  \\\n",
              "0  0     25.569054\n",
              "1     25.565881\n",
              "2     25.51670...   \n",
              "1  0     40.128664\n",
              "1     27.707245\n",
              "2     41.97890...   \n",
              "2  0     27.066303\n",
              "1     27.078202\n",
              "2     27.07621...   \n",
              "3  0     25.481400\n",
              "1     25.478227\n",
              "2     25.47505...   \n",
              "4  0     45.338696\n",
              "1     46.435357\n",
              "2     30.64502...   \n",
              "\n",
              "                             libvirt_domain_vcpu_cpu  \\\n",
              "0  0      5.0\n",
              "1     13.0\n",
              "2     21.0\n",
              "3      5.0\n",
              "4 ...   \n",
              "1  0     15.0\n",
              "1     11.0\n",
              "2      3.0\n",
              "3      3.0\n",
              "4 ...   \n",
              "2  0      9.0\n",
              "1      1.0\n",
              "2      1.0\n",
              "3     27.0\n",
              "4 ...   \n",
              "3  0     25.0\n",
              "1     21.0\n",
              "2     31.0\n",
              "3      7.0\n",
              "4 ...   \n",
              "4  0     13.0\n",
              "1     25.0\n",
              "2     13.0\n",
              "3      6.0\n",
              "4 ...   \n",
              "\n",
              "              libvirt_domain_vcpu_time_seconds_total  \n",
              "0  0     615.10\n",
              "1     615.17\n",
              "2     615.30\n",
              "3     6...  \n",
              "1  0     1721.68\n",
              "1     1781.44\n",
              "2     1841.19\n",
              "3   ...  \n",
              "2  0     8959.46\n",
              "1     8959.66\n",
              "2     8959.82\n",
              "3   ...  \n",
              "3  0     915.08\n",
              "1     915.17\n",
              "2     915.26\n",
              "3     9...  \n",
              "4  0     1678.57\n",
              "1     1738.35\n",
              "2     1798.10\n",
              "3   ...  \n",
              "\n",
              "[5 rows x 27 columns]"
            ],
            "text/html": [
              "\n",
              "  <div id=\"df-39218dbd-eb7f-4ee2-8825-fc62645ac5a1\">\n",
              "    <div class=\"colab-df-container\">\n",
              "      <div>\n",
              "<style scoped>\n",
              "    .dataframe tbody tr th:only-of-type {\n",
              "        vertical-align: middle;\n",
              "    }\n",
              "\n",
              "    .dataframe tbody tr th {\n",
              "        vertical-align: top;\n",
              "    }\n",
              "\n",
              "    .dataframe thead th {\n",
              "        text-align: right;\n",
              "    }\n",
              "</style>\n",
              "<table border=\"1\" class=\"dataframe\">\n",
              "  <thead>\n",
              "    <tr style=\"text-align: right;\">\n",
              "      <th></th>\n",
              "      <th>libvirt_domain_block_stats_flush_requests_total</th>\n",
              "      <th>libvirt_domain_block_stats_flush_time_seconds_total</th>\n",
              "      <th>libvirt_domain_block_stats_read_bytes_total</th>\n",
              "      <th>libvirt_domain_block_stats_read_requests_total</th>\n",
              "      <th>libvirt_domain_block_stats_read_time_seconds_total</th>\n",
              "      <th>libvirt_domain_block_stats_write_bytes_total</th>\n",
              "      <th>libvirt_domain_block_stats_write_requests_total</th>\n",
              "      <th>libvirt_domain_block_stats_write_time_seconds_total</th>\n",
              "      <th>libvirt_domain_info_cpu_time_seconds_total</th>\n",
              "      <th>libvirt_domain_info_memory_usage_bytes</th>\n",
              "      <th>...</th>\n",
              "      <th>libvirt_domain_interface_stats_transmit_packets_total</th>\n",
              "      <th>libvirt_domain_memory_stats_disk_cache_bytes</th>\n",
              "      <th>libvirt_domain_memory_stats_major_fault_total</th>\n",
              "      <th>libvirt_domain_memory_stats_minor_fault_total</th>\n",
              "      <th>libvirt_domain_memory_stats_rss_bytes</th>\n",
              "      <th>libvirt_domain_memory_stats_unused_bytes</th>\n",
              "      <th>libvirt_domain_memory_stats_usable_bytes</th>\n",
              "      <th>libvirt_domain_memory_stats_used_percent</th>\n",
              "      <th>libvirt_domain_vcpu_cpu</th>\n",
              "      <th>libvirt_domain_vcpu_time_seconds_total</th>\n",
              "    </tr>\n",
              "  </thead>\n",
              "  <tbody>\n",
              "    <tr>\n",
              "      <th>0</th>\n",
              "      <td>0     51896.0\n",
              "1     51896.0\n",
              "2     51908.0\n",
              "3   ...</td>\n",
              "      <td>0     3.812795\n",
              "1     3.812795\n",
              "2     3.814651\n",
              "3...</td>\n",
              "      <td>0     1.046134e+09\n",
              "1     1.046134e+09\n",
              "2     1....</td>\n",
              "      <td>0     48260.0\n",
              "1     48260.0\n",
              "2     48260.0\n",
              "3   ...</td>\n",
              "      <td>0     140.977919\n",
              "1     140.977919\n",
              "2     140.97...</td>\n",
              "      <td>0     5.335634e+09\n",
              "1     5.335634e+09\n",
              "2     5....</td>\n",
              "      <td>0     75123.0\n",
              "1     75123.0\n",
              "2     75191.0\n",
              "3   ...</td>\n",
              "      <td>0     136.586810\n",
              "1     136.586810\n",
              "2     136.61...</td>\n",
              "      <td>0     7242.05\n",
              "1     7245.63\n",
              "2     7249.16\n",
              "3   ...</td>\n",
              "      <td>0     1.073742e+09\n",
              "1     1.073742e+09\n",
              "2     1....</td>\n",
              "      <td>...</td>\n",
              "      <td>0     52300.0\n",
              "1     52321.0\n",
              "2     52371.0\n",
              "3   ...</td>\n",
              "      <td>0     0.0\n",
              "1     0.0\n",
              "2     0.0\n",
              "3     0.0\n",
              "4     ...</td>\n",
              "      <td>0     3810.0\n",
              "1     3810.0\n",
              "2     3810.0\n",
              "3     3...</td>\n",
              "      <td>0     22545435.0\n",
              "1     22545435.0\n",
              "2     225471...</td>\n",
              "      <td>0     1.121731e+09\n",
              "1     1.121731e+09\n",
              "2     1....</td>\n",
              "      <td>0     163254272.0\n",
              "1     163287040.0\n",
              "2     1637...</td>\n",
              "      <td>0     768663552.0\n",
              "1     768696320.0\n",
              "2     7692...</td>\n",
              "      <td>0     25.569054\n",
              "1     25.565881\n",
              "2     25.51670...</td>\n",
              "      <td>0      5.0\n",
              "1     13.0\n",
              "2     21.0\n",
              "3      5.0\n",
              "4 ...</td>\n",
              "      <td>0     615.10\n",
              "1     615.17\n",
              "2     615.30\n",
              "3     6...</td>\n",
              "    </tr>\n",
              "    <tr>\n",
              "      <th>1</th>\n",
              "      <td>0     24780672.0\n",
              "1     26145937.0\n",
              "2     276454...</td>\n",
              "      <td>0     208.361958\n",
              "1     219.678610\n",
              "2     232.07...</td>\n",
              "      <td>0     1.107918e+09\n",
              "1     1.107918e+09\n",
              "2     1....</td>\n",
              "      <td>0     60581.0\n",
              "1     60581.0\n",
              "2     60581.0\n",
              "3   ...</td>\n",
              "      <td>0     161.944016\n",
              "1     161.944016\n",
              "2     161.94...</td>\n",
              "      <td>0     5.486572e+09\n",
              "1     5.486572e+09\n",
              "2     5....</td>\n",
              "      <td>0     92736.0\n",
              "1     92736.0\n",
              "2     92736.0\n",
              "3   ...</td>\n",
              "      <td>0     214.482965\n",
              "1     214.482965\n",
              "2     214.48...</td>\n",
              "      <td>0     13493.85\n",
              "1     13642.20\n",
              "2     13793.26\n",
              "3...</td>\n",
              "      <td>0     1.073742e+09\n",
              "1     1.073742e+09\n",
              "2     1....</td>\n",
              "      <td>...</td>\n",
              "      <td>0     82356.0\n",
              "1     82380.0\n",
              "2     82395.0\n",
              "3   ...</td>\n",
              "      <td>0     0.0\n",
              "1     0.0\n",
              "2     0.0\n",
              "3     0.0\n",
              "4     ...</td>\n",
              "      <td>0     3960.0\n",
              "1     3960.0\n",
              "2     3960.0\n",
              "3     3...</td>\n",
              "      <td>0     138040414.0\n",
              "1     145709580.0\n",
              "2     1527...</td>\n",
              "      <td>0     1.121944e+09\n",
              "1     1.121944e+09\n",
              "2     1....</td>\n",
              "      <td>0     408174592.0\n",
              "1     536453120.0\n",
              "2     3890...</td>\n",
              "      <td>0     618303488.0\n",
              "1     746582016.0\n",
              "2     5991...</td>\n",
              "      <td>0     40.128664\n",
              "1     27.707245\n",
              "2     41.97890...</td>\n",
              "      <td>0     15.0\n",
              "1     11.0\n",
              "2      3.0\n",
              "3      3.0\n",
              "4 ...</td>\n",
              "      <td>0     1721.68\n",
              "1     1781.44\n",
              "2     1841.19\n",
              "3   ...</td>\n",
              "    </tr>\n",
              "    <tr>\n",
              "      <th>2</th>\n",
              "      <td>0     217333486.0\n",
              "1     217333494.0\n",
              "2     2173...</td>\n",
              "      <td>0     1745.715011\n",
              "1     1745.716272\n",
              "2     1745...</td>\n",
              "      <td>0     1.290030e+09\n",
              "1     1.290067e+09\n",
              "2     1....</td>\n",
              "      <td>0     62469.0\n",
              "1     62473.0\n",
              "2     62473.0\n",
              "3   ...</td>\n",
              "      <td>0     166.998447\n",
              "1     167.065036\n",
              "2     167.06...</td>\n",
              "      <td>0     6.043132e+09\n",
              "1     6.043615e+09\n",
              "2     6....</td>\n",
              "      <td>0     111134.0\n",
              "1     111204.0\n",
              "2     111217.0\n",
              "3...</td>\n",
              "      <td>0     226.401918\n",
              "1     226.440294\n",
              "2     226.44...</td>\n",
              "      <td>0     32085.56\n",
              "1     32089.23\n",
              "2     32092.89\n",
              "3...</td>\n",
              "      <td>0     1.073742e+09\n",
              "1     1.073742e+09\n",
              "2     1....</td>\n",
              "      <td>...</td>\n",
              "      <td>0     115307.0\n",
              "1     115318.0\n",
              "2     115325.0\n",
              "3...</td>\n",
              "      <td>0     0.0\n",
              "1     0.0\n",
              "2     0.0\n",
              "3     0.0\n",
              "4     ...</td>\n",
              "      <td>0     4042.0\n",
              "1     4043.0\n",
              "2     4043.0\n",
              "3     4...</td>\n",
              "      <td>0     1.066024e+09\n",
              "1     1.066025e+09\n",
              "2     1....</td>\n",
              "      <td>0     1.121886e+09\n",
              "1     1.121886e+09\n",
              "2     1....</td>\n",
              "      <td>0     162742272.0\n",
              "1     162504704.0\n",
              "2     1625...</td>\n",
              "      <td>0     753201152.0\n",
              "1     753078272.0\n",
              "2     7530...</td>\n",
              "      <td>0     27.066303\n",
              "1     27.078202\n",
              "2     27.07621...</td>\n",
              "      <td>0      9.0\n",
              "1      1.0\n",
              "2      1.0\n",
              "3     27.0\n",
              "4 ...</td>\n",
              "      <td>0     8959.46\n",
              "1     8959.66\n",
              "2     8959.82\n",
              "3   ...</td>\n",
              "    </tr>\n",
              "    <tr>\n",
              "      <th>3</th>\n",
              "      <td>0     52634.0\n",
              "1     52638.0\n",
              "2     52638.0\n",
              "3   ...</td>\n",
              "      <td>0     3.719479\n",
              "1     3.720177\n",
              "2     3.720177\n",
              "3...</td>\n",
              "      <td>0     961037312.0\n",
              "1     961037312.0\n",
              "2     9610...</td>\n",
              "      <td>0     44975.0\n",
              "1     44975.0\n",
              "2     44975.0\n",
              "3   ...</td>\n",
              "      <td>0     147.13808\n",
              "1     147.13808\n",
              "2     147.1380...</td>\n",
              "      <td>0     5.431456e+09\n",
              "1     5.431472e+09\n",
              "2     5....</td>\n",
              "      <td>0     82255.0\n",
              "1     82258.0\n",
              "2     82259.0\n",
              "3   ...</td>\n",
              "      <td>0     114.547265\n",
              "1     114.548299\n",
              "2     114.54...</td>\n",
              "      <td>0     7192.28\n",
              "1     7195.84\n",
              "2     7199.23\n",
              "3   ...</td>\n",
              "      <td>0     1.073742e+09\n",
              "1     1.073742e+09\n",
              "2     1....</td>\n",
              "      <td>...</td>\n",
              "      <td>0     51890.0\n",
              "1     51908.0\n",
              "2     51936.0\n",
              "3   ...</td>\n",
              "      <td>0     0.0\n",
              "1     0.0\n",
              "2     0.0\n",
              "3     0.0\n",
              "4     ...</td>\n",
              "      <td>0     2339.0\n",
              "1     2339.0\n",
              "2     2339.0\n",
              "3     2...</td>\n",
              "      <td>0     18651846.0\n",
              "1     18651846.0\n",
              "2     186518...</td>\n",
              "      <td>0     1.119650e+09\n",
              "1     1.119650e+09\n",
              "2     1....</td>\n",
              "      <td>0     193613824.0\n",
              "1     193646592.0\n",
              "2     1936...</td>\n",
              "      <td>0     769568768.0\n",
              "1     769601536.0\n",
              "2     7696...</td>\n",
              "      <td>0     25.481400\n",
              "1     25.478227\n",
              "2     25.47505...</td>\n",
              "      <td>0     25.0\n",
              "1     21.0\n",
              "2     31.0\n",
              "3      7.0\n",
              "4 ...</td>\n",
              "      <td>0     915.08\n",
              "1     915.17\n",
              "2     915.26\n",
              "3     9...</td>\n",
              "    </tr>\n",
              "    <tr>\n",
              "      <th>4</th>\n",
              "      <td>0     15871504.0\n",
              "1     17405784.0\n",
              "2     190254...</td>\n",
              "      <td>0     131.631761\n",
              "1     143.894649\n",
              "2     156.57...</td>\n",
              "      <td>0     980214784.0\n",
              "1     980214784.0\n",
              "2     9802...</td>\n",
              "      <td>0     46481.0\n",
              "1     46481.0\n",
              "2     46481.0\n",
              "3   ...</td>\n",
              "      <td>0     155.539272\n",
              "1     155.539272\n",
              "2     155.53...</td>\n",
              "      <td>0     5.811597e+09\n",
              "1     5.811597e+09\n",
              "2     5....</td>\n",
              "      <td>0     111165.0\n",
              "1     111165.0\n",
              "2     111165.0\n",
              "3...</td>\n",
              "      <td>0     139.674985\n",
              "1     139.674985\n",
              "2     139.67...</td>\n",
              "      <td>0     12577.01\n",
              "1     12728.06\n",
              "2     12880.53\n",
              "3...</td>\n",
              "      <td>0     1.073742e+09\n",
              "1     1.073742e+09\n",
              "2     1....</td>\n",
              "      <td>...</td>\n",
              "      <td>0     82599.0\n",
              "1     82620.0\n",
              "2     82643.0\n",
              "3   ...</td>\n",
              "      <td>0     0.0\n",
              "1     0.0\n",
              "2     0.0\n",
              "3     0.0\n",
              "4     ...</td>\n",
              "      <td>0     2421.0\n",
              "1     2421.0\n",
              "2     2421.0\n",
              "3     2...</td>\n",
              "      <td>0      93421994.0\n",
              "1     101188184.0\n",
              "2     1089...</td>\n",
              "      <td>0     1.119658e+09\n",
              "1     1.119658e+09\n",
              "2     1....</td>\n",
              "      <td>0     253440000.0\n",
              "1     242671616.0\n",
              "2     4057...</td>\n",
              "      <td>0     564498432.0\n",
              "1     553172992.0\n",
              "2     7162...</td>\n",
              "      <td>0     45.338696\n",
              "1     46.435357\n",
              "2     30.64502...</td>\n",
              "      <td>0     13.0\n",
              "1     25.0\n",
              "2     13.0\n",
              "3      6.0\n",
              "4 ...</td>\n",
              "      <td>0     1678.57\n",
              "1     1738.35\n",
              "2     1798.10\n",
              "3   ...</td>\n",
              "    </tr>\n",
              "  </tbody>\n",
              "</table>\n",
              "<p>5 rows × 27 columns</p>\n",
              "</div>\n",
              "      <button class=\"colab-df-convert\" onclick=\"convertToInteractive('df-39218dbd-eb7f-4ee2-8825-fc62645ac5a1')\"\n",
              "              title=\"Convert this dataframe to an interactive table.\"\n",
              "              style=\"display:none;\">\n",
              "        \n",
              "  <svg xmlns=\"http://www.w3.org/2000/svg\" height=\"24px\"viewBox=\"0 0 24 24\"\n",
              "       width=\"24px\">\n",
              "    <path d=\"M0 0h24v24H0V0z\" fill=\"none\"/>\n",
              "    <path d=\"M18.56 5.44l.94 2.06.94-2.06 2.06-.94-2.06-.94-.94-2.06-.94 2.06-2.06.94zm-11 1L8.5 8.5l.94-2.06 2.06-.94-2.06-.94L8.5 2.5l-.94 2.06-2.06.94zm10 10l.94 2.06.94-2.06 2.06-.94-2.06-.94-.94-2.06-.94 2.06-2.06.94z\"/><path d=\"M17.41 7.96l-1.37-1.37c-.4-.4-.92-.59-1.43-.59-.52 0-1.04.2-1.43.59L10.3 9.45l-7.72 7.72c-.78.78-.78 2.05 0 2.83L4 21.41c.39.39.9.59 1.41.59.51 0 1.02-.2 1.41-.59l7.78-7.78 2.81-2.81c.8-.78.8-2.07 0-2.86zM5.41 20L4 18.59l7.72-7.72 1.47 1.35L5.41 20z\"/>\n",
              "  </svg>\n",
              "      </button>\n",
              "      \n",
              "  <style>\n",
              "    .colab-df-container {\n",
              "      display:flex;\n",
              "      flex-wrap:wrap;\n",
              "      gap: 12px;\n",
              "    }\n",
              "\n",
              "    .colab-df-convert {\n",
              "      background-color: #E8F0FE;\n",
              "      border: none;\n",
              "      border-radius: 50%;\n",
              "      cursor: pointer;\n",
              "      display: none;\n",
              "      fill: #1967D2;\n",
              "      height: 32px;\n",
              "      padding: 0 0 0 0;\n",
              "      width: 32px;\n",
              "    }\n",
              "\n",
              "    .colab-df-convert:hover {\n",
              "      background-color: #E2EBFA;\n",
              "      box-shadow: 0px 1px 2px rgba(60, 64, 67, 0.3), 0px 1px 3px 1px rgba(60, 64, 67, 0.15);\n",
              "      fill: #174EA6;\n",
              "    }\n",
              "\n",
              "    [theme=dark] .colab-df-convert {\n",
              "      background-color: #3B4455;\n",
              "      fill: #D2E3FC;\n",
              "    }\n",
              "\n",
              "    [theme=dark] .colab-df-convert:hover {\n",
              "      background-color: #434B5C;\n",
              "      box-shadow: 0px 1px 3px 1px rgba(0, 0, 0, 0.15);\n",
              "      filter: drop-shadow(0px 1px 2px rgba(0, 0, 0, 0.3));\n",
              "      fill: #FFFFFF;\n",
              "    }\n",
              "  </style>\n",
              "\n",
              "      <script>\n",
              "        const buttonEl =\n",
              "          document.querySelector('#df-39218dbd-eb7f-4ee2-8825-fc62645ac5a1 button.colab-df-convert');\n",
              "        buttonEl.style.display =\n",
              "          google.colab.kernel.accessAllowed ? 'block' : 'none';\n",
              "\n",
              "        async function convertToInteractive(key) {\n",
              "          const element = document.querySelector('#df-39218dbd-eb7f-4ee2-8825-fc62645ac5a1');\n",
              "          const dataTable =\n",
              "            await google.colab.kernel.invokeFunction('convertToInteractive',\n",
              "                                                     [key], {});\n",
              "          if (!dataTable) return;\n",
              "\n",
              "          const docLinkHtml = 'Like what you see? Visit the ' +\n",
              "            '<a target=\"_blank\" href=https://colab.research.google.com/notebooks/data_table.ipynb>data table notebook</a>'\n",
              "            + ' to learn more about interactive tables.';\n",
              "          element.innerHTML = '';\n",
              "          dataTable['output_type'] = 'display_data';\n",
              "          await google.colab.output.renderOutput(dataTable, element);\n",
              "          const docLink = document.createElement('div');\n",
              "          docLink.innerHTML = docLinkHtml;\n",
              "          element.appendChild(docLink);\n",
              "        }\n",
              "      </script>\n",
              "    </div>\n",
              "  </div>\n",
              "  "
            ]
          },
          "metadata": {},
          "execution_count": 18
        }
      ]
    },
    {
      "cell_type": "code",
      "source": [
        "y_train = np.array(([1 for i in range(6)] + [0 for i in range(3)]) * 3)\n",
        "X_train = sk_frame"
      ],
      "metadata": {
        "id": "50bnywbfhxks"
      },
      "execution_count": 19,
      "outputs": []
    },
    {
      "cell_type": "markdown",
      "source": [
        "#### Считывание данных, полученных с помощью Prometheus с виртуальных машин (test)"
      ],
      "metadata": {
        "id": "AHPrLOWJ6bmb"
      }
    },
    {
      "cell_type": "code",
      "source": [
        "fd_test = []\n",
        "y_test = np.array([])\n",
        "for root, dirs, files in os.walk('/content/drive/MyDrive/curs_work/test/'):  \n",
        "    for f in files:\n",
        "        print(f)\n",
        "        fd_test.append(pd.read_csv('/content/drive/MyDrive/curs_work/test/' + f, index_col=0))\n",
        "        if f == 'instance-00006400.csv' or f == 'instance-000063fe.csv' or f == 'instance-00006401.csv':\n",
        "            y_test = np.append(y_test, 1)\n",
        "        else:\n",
        "            y_test = np.append(y_test, 0)"
      ],
      "metadata": {
        "colab": {
          "base_uri": "https://localhost:8080/"
        },
        "id": "g3Hb4YZG6xq3",
        "outputId": "01ebf032-e78c-47e5-f444-4383e79eb5e2"
      },
      "execution_count": 20,
      "outputs": [
        {
          "output_type": "stream",
          "name": "stdout",
          "text": [
            "instance-00005145.csv\n",
            "instance-0000055f.csv\n",
            "instance-000063fe.csv\n",
            "instance-00006479.csv\n",
            "instance-000001c3.csv\n",
            "instance-00006400.csv\n",
            "instance-00000538.csv\n",
            "instance-0000096b.csv\n",
            "instance-00000607.csv\n",
            "instance-000002cb.csv\n",
            "instance-00006401.csv\n",
            "instance-00000409.csv\n",
            "instance-0000094d.csv\n",
            "instance-00000968.csv\n",
            "instance-000060f1.csv\n",
            "instance-000002bf.csv\n",
            "instance-0000054d.csv\n",
            "instance-00000286.csv\n",
            "instance-00000962.csv\n",
            "instance-00000932.csv\n"
          ]
        }
      ]
    },
    {
      "cell_type": "markdown",
      "source": [
        "##### Преобразование в sktime DataFrame"
      ],
      "metadata": {
        "id": "3TgEPkzqBdCf"
      }
    },
    {
      "cell_type": "code",
      "source": [
        "X_test = from_2d_array_to_nested(fd_test[0].T).T\n",
        "for i in np.arange(1, len(fd_test)):\n",
        "    X_test = X_test.append(from_2d_array_to_nested(fd_test[i].T).T)\n",
        "X_test.columns = fd_test[0].columns\n",
        "X_test = X_test.reset_index(drop=True)\n",
        "X_test.head(5)"
      ],
      "metadata": {
        "colab": {
          "base_uri": "https://localhost:8080/",
          "height": 386
        },
        "id": "EO_0ltKp7jk5",
        "outputId": "bf8a96b2-3f65-4ee3-abac-7e1012c8e8c0"
      },
      "execution_count": 21,
      "outputs": [
        {
          "output_type": "execute_result",
          "data": {
            "text/plain": [
              "     libvirt_domain_block_stats_flush_requests_total  \\\n",
              "0  0     1037769.0\n",
              "1     1037769.0\n",
              "2     1037769....   \n",
              "1  0     2185480.0\n",
              "1     2185484.0\n",
              "2     2185488....   \n",
              "2  0     207915675.0\n",
              "1     207915685.0\n",
              "2     2079...   \n",
              "3  0     1036021.0\n",
              "1     1036047.0\n",
              "2     1036080....   \n",
              "4  0     88740296.0\n",
              "1     88740422.0\n",
              "2     887406...   \n",
              "\n",
              "  libvirt_domain_block_stats_flush_time_seconds_total  \\\n",
              "0  0     1428.741729\n",
              "1     1428.741729\n",
              "2     1428...    \n",
              "1  0     274.517765\n",
              "1     274.518062\n",
              "2     274.51...    \n",
              "2  0     1901.827081\n",
              "1     1901.828116\n",
              "2     1901...    \n",
              "3  0     345.959152\n",
              "1     345.963141\n",
              "2     345.96...    \n",
              "4  0     11593.453459\n",
              "1     11593.465196\n",
              "2     11...    \n",
              "\n",
              "         libvirt_domain_block_stats_read_bytes_total  \\\n",
              "0  0     1.279981e+11\n",
              "1     1.279981e+11\n",
              "2     1....   \n",
              "1  0     1.166085e+09\n",
              "1     1.166085e+09\n",
              "2     1....   \n",
              "2  0     3.666002e+09\n",
              "1     3.666002e+09\n",
              "2     3....   \n",
              "3  0     690943488.0\n",
              "1     690943488.0\n",
              "2     6909...   \n",
              "4  0     1.184182e+11\n",
              "1     1.184198e+11\n",
              "2     1....   \n",
              "\n",
              "      libvirt_domain_block_stats_read_requests_total  \\\n",
              "0  0     2240589.0\n",
              "1     2240589.0\n",
              "2     2240589....   \n",
              "1  0     118743.0\n",
              "1     118743.0\n",
              "2     118743.0\n",
              "3...   \n",
              "2  0     140992.0\n",
              "1     140992.0\n",
              "2     140992.0\n",
              "3...   \n",
              "3  0     25428.0\n",
              "1     25428.0\n",
              "2     25428.0\n",
              "3   ...   \n",
              "4  0     13369285.0\n",
              "1     13369635.0\n",
              "2     133696...   \n",
              "\n",
              "  libvirt_domain_block_stats_read_time_seconds_total  \\\n",
              "0  0     6448.592459\n",
              "1     6448.592459\n",
              "2     6448...   \n",
              "1  0     1222.559447\n",
              "1     1222.559447\n",
              "2     1222...   \n",
              "2  0     1317.435048\n",
              "1     1317.435048\n",
              "2     1317...   \n",
              "3  0     101.071546\n",
              "1     101.071546\n",
              "2     101.07...   \n",
              "4  0     52581.623027\n",
              "1     52585.033637\n",
              "2     52...   \n",
              "\n",
              "        libvirt_domain_block_stats_write_bytes_total  \\\n",
              "0  0     6.383848e+11\n",
              "1     6.383848e+11\n",
              "2     6....   \n",
              "1  0     1.068237e+11\n",
              "1     1.068238e+11\n",
              "2     1....   \n",
              "2  0     2.231612e+10\n",
              "1     2.231637e+10\n",
              "2     2....   \n",
              "3  0     1.004270e+11\n",
              "1     1.004289e+11\n",
              "2     1....   \n",
              "4  0     2.224863e+13\n",
              "1     2.224867e+13\n",
              "2     2....   \n",
              "\n",
              "     libvirt_domain_block_stats_write_requests_total  \\\n",
              "0  0     4090837.0\n",
              "1     4090837.0\n",
              "2     4090837....   \n",
              "1  0     5576595.0\n",
              "1     5576604.0\n",
              "2     5576613....   \n",
              "2  0     1467940.0\n",
              "1     1467984.0\n",
              "2     1468057....   \n",
              "3  0     17320304.0\n",
              "1     17320671.0\n",
              "2     173213...   \n",
              "4  0     214867098.0\n",
              "1     214867451.0\n",
              "2     2148...   \n",
              "\n",
              "  libvirt_domain_block_stats_write_time_seconds_total  \\\n",
              "0  0     103440.167457\n",
              "1     103440.167457\n",
              "2     ...    \n",
              "1  0     19499.658551\n",
              "1     19499.661733\n",
              "2     19...    \n",
              "2  0     20081.778790\n",
              "1     20083.600719\n",
              "2     20...    \n",
              "3  0     12650.216638\n",
              "1     12650.289063\n",
              "2     12...    \n",
              "4  0     273485.496014\n",
              "1     273485.860114\n",
              "2     ...    \n",
              "\n",
              "          libvirt_domain_info_cpu_time_seconds_total  \\\n",
              "0  0     1332932.09\n",
              "1     1332933.68\n",
              "2     133293...   \n",
              "1  0     1766509.19\n",
              "1     1766511.56\n",
              "2     176651...   \n",
              "2  0     161247.10\n",
              "1     161249.38\n",
              "2     161251.5...   \n",
              "3  0     1237798.25\n",
              "1     1237821.65\n",
              "2     123784...   \n",
              "4  0     30935958.45\n",
              "1     30936007.75\n",
              "2     3093...   \n",
              "\n",
              "              libvirt_domain_info_memory_usage_bytes  ...  \\\n",
              "0  0     1.717987e+10\n",
              "1     1.717987e+10\n",
              "2     1....  ...   \n",
              "1  0     8.589935e+09\n",
              "1     8.589935e+09\n",
              "2     8....  ...   \n",
              "2  0     1.073742e+09\n",
              "1     1.073742e+09\n",
              "2     1....  ...   \n",
              "3  0     1.717987e+10\n",
              "1     1.717987e+10\n",
              "2     1....  ...   \n",
              "4  0     4.294967e+09\n",
              "1     4.294967e+09\n",
              "2     4....  ...   \n",
              "\n",
              "  libvirt_domain_interface_stats_transmit_packets_total   \\\n",
              "0  0     6176323.0\n",
              "1     6176323.0\n",
              "2     6176323....       \n",
              "1  0     3983814.0\n",
              "1     3983814.0\n",
              "2     3983814....       \n",
              "2  0     1369761.0\n",
              "1     1369791.0\n",
              "2     1369824....       \n",
              "3  0     3764246.0\n",
              "1     3764313.0\n",
              "2     3764377....       \n",
              "4  0     1.109860e+09\n",
              "1     1.109861e+09\n",
              "2     1....       \n",
              "\n",
              "        libvirt_domain_memory_stats_disk_cache_bytes  \\\n",
              "0  0     1.278761e+10\n",
              "1     1.278761e+10\n",
              "2     1....   \n",
              "1  0     0.0\n",
              "1     0.0\n",
              "2     0.0\n",
              "3     0.0\n",
              "4     ...   \n",
              "2  0     0.0\n",
              "1     0.0\n",
              "2     0.0\n",
              "3     0.0\n",
              "4     ...   \n",
              "3  0     7.782605e+09\n",
              "1     7.782830e+09\n",
              "2     7....   \n",
              "4  0     0.0\n",
              "1     0.0\n",
              "2     0.0\n",
              "3     0.0\n",
              "4     ...   \n",
              "\n",
              "       libvirt_domain_memory_stats_major_fault_total  \\\n",
              "0  0     944913.0\n",
              "1     944913.0\n",
              "2     944913.0\n",
              "3...   \n",
              "1  0     2059.0\n",
              "1     2059.0\n",
              "2     2059.0\n",
              "3     2...   \n",
              "2  0     7763.0\n",
              "1     7763.0\n",
              "2     7763.0\n",
              "3     7...   \n",
              "3  0     6637.0\n",
              "1     6637.0\n",
              "2     6637.0\n",
              "3     6...   \n",
              "4  0     115568.0\n",
              "1     115571.0\n",
              "2     115571.0\n",
              "3...   \n",
              "\n",
              "       libvirt_domain_memory_stats_minor_fault_total  \\\n",
              "0  0     3.909774e+09\n",
              "1     3.909774e+09\n",
              "2     3....   \n",
              "1  0     112438885.0\n",
              "1     112438885.0\n",
              "2     1124...   \n",
              "2  0     1.093241e+09\n",
              "1     1.093242e+09\n",
              "2     1....   \n",
              "3  0     9.267874e+09\n",
              "1     9.268131e+09\n",
              "2     9....   \n",
              "4  0     8.201143e+10\n",
              "1     8.201159e+10\n",
              "2     8....   \n",
              "\n",
              "               libvirt_domain_memory_stats_rss_bytes  \\\n",
              "0  0     0.0\n",
              "1     0.0\n",
              "2     0.0\n",
              "3     0.0\n",
              "4     ...   \n",
              "1  0     2.328211e+09\n",
              "1     2.328211e+09\n",
              "2     2....   \n",
              "2  0     1.168650e+09\n",
              "1     1.168650e+09\n",
              "2     1....   \n",
              "3  0     0.0\n",
              "1     0.0\n",
              "2     0.0\n",
              "3     0.0\n",
              "4     ...   \n",
              "4  0     4.320616e+09\n",
              "1     4.320731e+09\n",
              "2     4....   \n",
              "\n",
              "            libvirt_domain_memory_stats_unused_bytes  \\\n",
              "0  0     2.928251e+09\n",
              "1     2.928251e+09\n",
              "2     2....   \n",
              "1  0     6.494118e+09\n",
              "1     6.494380e+09\n",
              "2     6....   \n",
              "2  0     264060928.0\n",
              "1     263872512.0\n",
              "2     2641...   \n",
              "3  0     7.507198e+09\n",
              "1     7.523946e+09\n",
              "2     7....   \n",
              "4  0     180850688.0\n",
              "1     183971840.0\n",
              "2     1754...   \n",
              "\n",
              "            libvirt_domain_memory_stats_usable_bytes  \\\n",
              "0  0     1.615520e+10\n",
              "1     1.615520e+10\n",
              "2     1....   \n",
              "1  0     7.648182e+09\n",
              "1     7.648444e+09\n",
              "2     7....   \n",
              "2  0     731688960.0\n",
              "1     731512832.0\n",
              "2     7318...   \n",
              "3  0     1.537577e+10\n",
              "1     1.539275e+10\n",
              "2     1....   \n",
              "4  0     664760320.0\n",
              "1     669970432.0\n",
              "2     6618...   \n",
              "\n",
              "            libvirt_domain_memory_stats_used_percent  \\\n",
              "0  0     3.789823\n",
              "1     3.789823\n",
              "2     3.789823\n",
              "3...   \n",
              "1  0     8.637503\n",
              "1     8.634371\n",
              "2     8.635937\n",
              "3...   \n",
              "2  0     29.149364\n",
              "1     29.166419\n",
              "2     29.13786...   \n",
              "3  0     8.403585\n",
              "1     8.302444\n",
              "2     8.308471\n",
              "3...   \n",
              "4  0     83.956128\n",
              "1     83.830382\n",
              "2     84.02740...   \n",
              "\n",
              "                             libvirt_domain_vcpu_cpu  \\\n",
              "0  0     17.0\n",
              "1      5.0\n",
              "2      9.0\n",
              "3     19.0\n",
              "4 ...   \n",
              "1  0     14.0\n",
              "1      6.0\n",
              "2     16.0\n",
              "3      0.0\n",
              "4 ...   \n",
              "2  0     28.0\n",
              "1     31.0\n",
              "2      0.0\n",
              "3     14.0\n",
              "4 ...   \n",
              "3  0     26.0\n",
              "1      6.0\n",
              "2     16.0\n",
              "3     30.0\n",
              "4 ...   \n",
              "4  0     18.0\n",
              "1     10.0\n",
              "2      6.0\n",
              "3      4.0\n",
              "4 ...   \n",
              "\n",
              "              libvirt_domain_vcpu_time_seconds_total  \n",
              "0  0     145816.18\n",
              "1     145816.22\n",
              "2     145816.2...  \n",
              "1  0     116509.66\n",
              "1     116509.84\n",
              "2     116510.0...  \n",
              "2  0     14812.25\n",
              "1     14812.35\n",
              "2     14812.47\n",
              "3...  \n",
              "3  0     307849.98\n",
              "1     307853.32\n",
              "2     307861.8...  \n",
              "4  0     14684159.02\n",
              "1     14684182.34\n",
              "2     1468...  \n",
              "\n",
              "[5 rows x 27 columns]"
            ],
            "text/html": [
              "\n",
              "  <div id=\"df-5143bc35-a047-4806-b4bb-1db91bbd16dd\">\n",
              "    <div class=\"colab-df-container\">\n",
              "      <div>\n",
              "<style scoped>\n",
              "    .dataframe tbody tr th:only-of-type {\n",
              "        vertical-align: middle;\n",
              "    }\n",
              "\n",
              "    .dataframe tbody tr th {\n",
              "        vertical-align: top;\n",
              "    }\n",
              "\n",
              "    .dataframe thead th {\n",
              "        text-align: right;\n",
              "    }\n",
              "</style>\n",
              "<table border=\"1\" class=\"dataframe\">\n",
              "  <thead>\n",
              "    <tr style=\"text-align: right;\">\n",
              "      <th></th>\n",
              "      <th>libvirt_domain_block_stats_flush_requests_total</th>\n",
              "      <th>libvirt_domain_block_stats_flush_time_seconds_total</th>\n",
              "      <th>libvirt_domain_block_stats_read_bytes_total</th>\n",
              "      <th>libvirt_domain_block_stats_read_requests_total</th>\n",
              "      <th>libvirt_domain_block_stats_read_time_seconds_total</th>\n",
              "      <th>libvirt_domain_block_stats_write_bytes_total</th>\n",
              "      <th>libvirt_domain_block_stats_write_requests_total</th>\n",
              "      <th>libvirt_domain_block_stats_write_time_seconds_total</th>\n",
              "      <th>libvirt_domain_info_cpu_time_seconds_total</th>\n",
              "      <th>libvirt_domain_info_memory_usage_bytes</th>\n",
              "      <th>...</th>\n",
              "      <th>libvirt_domain_interface_stats_transmit_packets_total</th>\n",
              "      <th>libvirt_domain_memory_stats_disk_cache_bytes</th>\n",
              "      <th>libvirt_domain_memory_stats_major_fault_total</th>\n",
              "      <th>libvirt_domain_memory_stats_minor_fault_total</th>\n",
              "      <th>libvirt_domain_memory_stats_rss_bytes</th>\n",
              "      <th>libvirt_domain_memory_stats_unused_bytes</th>\n",
              "      <th>libvirt_domain_memory_stats_usable_bytes</th>\n",
              "      <th>libvirt_domain_memory_stats_used_percent</th>\n",
              "      <th>libvirt_domain_vcpu_cpu</th>\n",
              "      <th>libvirt_domain_vcpu_time_seconds_total</th>\n",
              "    </tr>\n",
              "  </thead>\n",
              "  <tbody>\n",
              "    <tr>\n",
              "      <th>0</th>\n",
              "      <td>0     1037769.0\n",
              "1     1037769.0\n",
              "2     1037769....</td>\n",
              "      <td>0     1428.741729\n",
              "1     1428.741729\n",
              "2     1428...</td>\n",
              "      <td>0     1.279981e+11\n",
              "1     1.279981e+11\n",
              "2     1....</td>\n",
              "      <td>0     2240589.0\n",
              "1     2240589.0\n",
              "2     2240589....</td>\n",
              "      <td>0     6448.592459\n",
              "1     6448.592459\n",
              "2     6448...</td>\n",
              "      <td>0     6.383848e+11\n",
              "1     6.383848e+11\n",
              "2     6....</td>\n",
              "      <td>0     4090837.0\n",
              "1     4090837.0\n",
              "2     4090837....</td>\n",
              "      <td>0     103440.167457\n",
              "1     103440.167457\n",
              "2     ...</td>\n",
              "      <td>0     1332932.09\n",
              "1     1332933.68\n",
              "2     133293...</td>\n",
              "      <td>0     1.717987e+10\n",
              "1     1.717987e+10\n",
              "2     1....</td>\n",
              "      <td>...</td>\n",
              "      <td>0     6176323.0\n",
              "1     6176323.0\n",
              "2     6176323....</td>\n",
              "      <td>0     1.278761e+10\n",
              "1     1.278761e+10\n",
              "2     1....</td>\n",
              "      <td>0     944913.0\n",
              "1     944913.0\n",
              "2     944913.0\n",
              "3...</td>\n",
              "      <td>0     3.909774e+09\n",
              "1     3.909774e+09\n",
              "2     3....</td>\n",
              "      <td>0     0.0\n",
              "1     0.0\n",
              "2     0.0\n",
              "3     0.0\n",
              "4     ...</td>\n",
              "      <td>0     2.928251e+09\n",
              "1     2.928251e+09\n",
              "2     2....</td>\n",
              "      <td>0     1.615520e+10\n",
              "1     1.615520e+10\n",
              "2     1....</td>\n",
              "      <td>0     3.789823\n",
              "1     3.789823\n",
              "2     3.789823\n",
              "3...</td>\n",
              "      <td>0     17.0\n",
              "1      5.0\n",
              "2      9.0\n",
              "3     19.0\n",
              "4 ...</td>\n",
              "      <td>0     145816.18\n",
              "1     145816.22\n",
              "2     145816.2...</td>\n",
              "    </tr>\n",
              "    <tr>\n",
              "      <th>1</th>\n",
              "      <td>0     2185480.0\n",
              "1     2185484.0\n",
              "2     2185488....</td>\n",
              "      <td>0     274.517765\n",
              "1     274.518062\n",
              "2     274.51...</td>\n",
              "      <td>0     1.166085e+09\n",
              "1     1.166085e+09\n",
              "2     1....</td>\n",
              "      <td>0     118743.0\n",
              "1     118743.0\n",
              "2     118743.0\n",
              "3...</td>\n",
              "      <td>0     1222.559447\n",
              "1     1222.559447\n",
              "2     1222...</td>\n",
              "      <td>0     1.068237e+11\n",
              "1     1.068238e+11\n",
              "2     1....</td>\n",
              "      <td>0     5576595.0\n",
              "1     5576604.0\n",
              "2     5576613....</td>\n",
              "      <td>0     19499.658551\n",
              "1     19499.661733\n",
              "2     19...</td>\n",
              "      <td>0     1766509.19\n",
              "1     1766511.56\n",
              "2     176651...</td>\n",
              "      <td>0     8.589935e+09\n",
              "1     8.589935e+09\n",
              "2     8....</td>\n",
              "      <td>...</td>\n",
              "      <td>0     3983814.0\n",
              "1     3983814.0\n",
              "2     3983814....</td>\n",
              "      <td>0     0.0\n",
              "1     0.0\n",
              "2     0.0\n",
              "3     0.0\n",
              "4     ...</td>\n",
              "      <td>0     2059.0\n",
              "1     2059.0\n",
              "2     2059.0\n",
              "3     2...</td>\n",
              "      <td>0     112438885.0\n",
              "1     112438885.0\n",
              "2     1124...</td>\n",
              "      <td>0     2.328211e+09\n",
              "1     2.328211e+09\n",
              "2     2....</td>\n",
              "      <td>0     6.494118e+09\n",
              "1     6.494380e+09\n",
              "2     6....</td>\n",
              "      <td>0     7.648182e+09\n",
              "1     7.648444e+09\n",
              "2     7....</td>\n",
              "      <td>0     8.637503\n",
              "1     8.634371\n",
              "2     8.635937\n",
              "3...</td>\n",
              "      <td>0     14.0\n",
              "1      6.0\n",
              "2     16.0\n",
              "3      0.0\n",
              "4 ...</td>\n",
              "      <td>0     116509.66\n",
              "1     116509.84\n",
              "2     116510.0...</td>\n",
              "    </tr>\n",
              "    <tr>\n",
              "      <th>2</th>\n",
              "      <td>0     207915675.0\n",
              "1     207915685.0\n",
              "2     2079...</td>\n",
              "      <td>0     1901.827081\n",
              "1     1901.828116\n",
              "2     1901...</td>\n",
              "      <td>0     3.666002e+09\n",
              "1     3.666002e+09\n",
              "2     3....</td>\n",
              "      <td>0     140992.0\n",
              "1     140992.0\n",
              "2     140992.0\n",
              "3...</td>\n",
              "      <td>0     1317.435048\n",
              "1     1317.435048\n",
              "2     1317...</td>\n",
              "      <td>0     2.231612e+10\n",
              "1     2.231637e+10\n",
              "2     2....</td>\n",
              "      <td>0     1467940.0\n",
              "1     1467984.0\n",
              "2     1468057....</td>\n",
              "      <td>0     20081.778790\n",
              "1     20083.600719\n",
              "2     20...</td>\n",
              "      <td>0     161247.10\n",
              "1     161249.38\n",
              "2     161251.5...</td>\n",
              "      <td>0     1.073742e+09\n",
              "1     1.073742e+09\n",
              "2     1....</td>\n",
              "      <td>...</td>\n",
              "      <td>0     1369761.0\n",
              "1     1369791.0\n",
              "2     1369824....</td>\n",
              "      <td>0     0.0\n",
              "1     0.0\n",
              "2     0.0\n",
              "3     0.0\n",
              "4     ...</td>\n",
              "      <td>0     7763.0\n",
              "1     7763.0\n",
              "2     7763.0\n",
              "3     7...</td>\n",
              "      <td>0     1.093241e+09\n",
              "1     1.093242e+09\n",
              "2     1....</td>\n",
              "      <td>0     1.168650e+09\n",
              "1     1.168650e+09\n",
              "2     1....</td>\n",
              "      <td>0     264060928.0\n",
              "1     263872512.0\n",
              "2     2641...</td>\n",
              "      <td>0     731688960.0\n",
              "1     731512832.0\n",
              "2     7318...</td>\n",
              "      <td>0     29.149364\n",
              "1     29.166419\n",
              "2     29.13786...</td>\n",
              "      <td>0     28.0\n",
              "1     31.0\n",
              "2      0.0\n",
              "3     14.0\n",
              "4 ...</td>\n",
              "      <td>0     14812.25\n",
              "1     14812.35\n",
              "2     14812.47\n",
              "3...</td>\n",
              "    </tr>\n",
              "    <tr>\n",
              "      <th>3</th>\n",
              "      <td>0     1036021.0\n",
              "1     1036047.0\n",
              "2     1036080....</td>\n",
              "      <td>0     345.959152\n",
              "1     345.963141\n",
              "2     345.96...</td>\n",
              "      <td>0     690943488.0\n",
              "1     690943488.0\n",
              "2     6909...</td>\n",
              "      <td>0     25428.0\n",
              "1     25428.0\n",
              "2     25428.0\n",
              "3   ...</td>\n",
              "      <td>0     101.071546\n",
              "1     101.071546\n",
              "2     101.07...</td>\n",
              "      <td>0     1.004270e+11\n",
              "1     1.004289e+11\n",
              "2     1....</td>\n",
              "      <td>0     17320304.0\n",
              "1     17320671.0\n",
              "2     173213...</td>\n",
              "      <td>0     12650.216638\n",
              "1     12650.289063\n",
              "2     12...</td>\n",
              "      <td>0     1237798.25\n",
              "1     1237821.65\n",
              "2     123784...</td>\n",
              "      <td>0     1.717987e+10\n",
              "1     1.717987e+10\n",
              "2     1....</td>\n",
              "      <td>...</td>\n",
              "      <td>0     3764246.0\n",
              "1     3764313.0\n",
              "2     3764377....</td>\n",
              "      <td>0     7.782605e+09\n",
              "1     7.782830e+09\n",
              "2     7....</td>\n",
              "      <td>0     6637.0\n",
              "1     6637.0\n",
              "2     6637.0\n",
              "3     6...</td>\n",
              "      <td>0     9.267874e+09\n",
              "1     9.268131e+09\n",
              "2     9....</td>\n",
              "      <td>0     0.0\n",
              "1     0.0\n",
              "2     0.0\n",
              "3     0.0\n",
              "4     ...</td>\n",
              "      <td>0     7.507198e+09\n",
              "1     7.523946e+09\n",
              "2     7....</td>\n",
              "      <td>0     1.537577e+10\n",
              "1     1.539275e+10\n",
              "2     1....</td>\n",
              "      <td>0     8.403585\n",
              "1     8.302444\n",
              "2     8.308471\n",
              "3...</td>\n",
              "      <td>0     26.0\n",
              "1      6.0\n",
              "2     16.0\n",
              "3     30.0\n",
              "4 ...</td>\n",
              "      <td>0     307849.98\n",
              "1     307853.32\n",
              "2     307861.8...</td>\n",
              "    </tr>\n",
              "    <tr>\n",
              "      <th>4</th>\n",
              "      <td>0     88740296.0\n",
              "1     88740422.0\n",
              "2     887406...</td>\n",
              "      <td>0     11593.453459\n",
              "1     11593.465196\n",
              "2     11...</td>\n",
              "      <td>0     1.184182e+11\n",
              "1     1.184198e+11\n",
              "2     1....</td>\n",
              "      <td>0     13369285.0\n",
              "1     13369635.0\n",
              "2     133696...</td>\n",
              "      <td>0     52581.623027\n",
              "1     52585.033637\n",
              "2     52...</td>\n",
              "      <td>0     2.224863e+13\n",
              "1     2.224867e+13\n",
              "2     2....</td>\n",
              "      <td>0     214867098.0\n",
              "1     214867451.0\n",
              "2     2148...</td>\n",
              "      <td>0     273485.496014\n",
              "1     273485.860114\n",
              "2     ...</td>\n",
              "      <td>0     30935958.45\n",
              "1     30936007.75\n",
              "2     3093...</td>\n",
              "      <td>0     4.294967e+09\n",
              "1     4.294967e+09\n",
              "2     4....</td>\n",
              "      <td>...</td>\n",
              "      <td>0     1.109860e+09\n",
              "1     1.109861e+09\n",
              "2     1....</td>\n",
              "      <td>0     0.0\n",
              "1     0.0\n",
              "2     0.0\n",
              "3     0.0\n",
              "4     ...</td>\n",
              "      <td>0     115568.0\n",
              "1     115571.0\n",
              "2     115571.0\n",
              "3...</td>\n",
              "      <td>0     8.201143e+10\n",
              "1     8.201159e+10\n",
              "2     8....</td>\n",
              "      <td>0     4.320616e+09\n",
              "1     4.320731e+09\n",
              "2     4....</td>\n",
              "      <td>0     180850688.0\n",
              "1     183971840.0\n",
              "2     1754...</td>\n",
              "      <td>0     664760320.0\n",
              "1     669970432.0\n",
              "2     6618...</td>\n",
              "      <td>0     83.956128\n",
              "1     83.830382\n",
              "2     84.02740...</td>\n",
              "      <td>0     18.0\n",
              "1     10.0\n",
              "2      6.0\n",
              "3      4.0\n",
              "4 ...</td>\n",
              "      <td>0     14684159.02\n",
              "1     14684182.34\n",
              "2     1468...</td>\n",
              "    </tr>\n",
              "  </tbody>\n",
              "</table>\n",
              "<p>5 rows × 27 columns</p>\n",
              "</div>\n",
              "      <button class=\"colab-df-convert\" onclick=\"convertToInteractive('df-5143bc35-a047-4806-b4bb-1db91bbd16dd')\"\n",
              "              title=\"Convert this dataframe to an interactive table.\"\n",
              "              style=\"display:none;\">\n",
              "        \n",
              "  <svg xmlns=\"http://www.w3.org/2000/svg\" height=\"24px\"viewBox=\"0 0 24 24\"\n",
              "       width=\"24px\">\n",
              "    <path d=\"M0 0h24v24H0V0z\" fill=\"none\"/>\n",
              "    <path d=\"M18.56 5.44l.94 2.06.94-2.06 2.06-.94-2.06-.94-.94-2.06-.94 2.06-2.06.94zm-11 1L8.5 8.5l.94-2.06 2.06-.94-2.06-.94L8.5 2.5l-.94 2.06-2.06.94zm10 10l.94 2.06.94-2.06 2.06-.94-2.06-.94-.94-2.06-.94 2.06-2.06.94z\"/><path d=\"M17.41 7.96l-1.37-1.37c-.4-.4-.92-.59-1.43-.59-.52 0-1.04.2-1.43.59L10.3 9.45l-7.72 7.72c-.78.78-.78 2.05 0 2.83L4 21.41c.39.39.9.59 1.41.59.51 0 1.02-.2 1.41-.59l7.78-7.78 2.81-2.81c.8-.78.8-2.07 0-2.86zM5.41 20L4 18.59l7.72-7.72 1.47 1.35L5.41 20z\"/>\n",
              "  </svg>\n",
              "      </button>\n",
              "      \n",
              "  <style>\n",
              "    .colab-df-container {\n",
              "      display:flex;\n",
              "      flex-wrap:wrap;\n",
              "      gap: 12px;\n",
              "    }\n",
              "\n",
              "    .colab-df-convert {\n",
              "      background-color: #E8F0FE;\n",
              "      border: none;\n",
              "      border-radius: 50%;\n",
              "      cursor: pointer;\n",
              "      display: none;\n",
              "      fill: #1967D2;\n",
              "      height: 32px;\n",
              "      padding: 0 0 0 0;\n",
              "      width: 32px;\n",
              "    }\n",
              "\n",
              "    .colab-df-convert:hover {\n",
              "      background-color: #E2EBFA;\n",
              "      box-shadow: 0px 1px 2px rgba(60, 64, 67, 0.3), 0px 1px 3px 1px rgba(60, 64, 67, 0.15);\n",
              "      fill: #174EA6;\n",
              "    }\n",
              "\n",
              "    [theme=dark] .colab-df-convert {\n",
              "      background-color: #3B4455;\n",
              "      fill: #D2E3FC;\n",
              "    }\n",
              "\n",
              "    [theme=dark] .colab-df-convert:hover {\n",
              "      background-color: #434B5C;\n",
              "      box-shadow: 0px 1px 3px 1px rgba(0, 0, 0, 0.15);\n",
              "      filter: drop-shadow(0px 1px 2px rgba(0, 0, 0, 0.3));\n",
              "      fill: #FFFFFF;\n",
              "    }\n",
              "  </style>\n",
              "\n",
              "      <script>\n",
              "        const buttonEl =\n",
              "          document.querySelector('#df-5143bc35-a047-4806-b4bb-1db91bbd16dd button.colab-df-convert');\n",
              "        buttonEl.style.display =\n",
              "          google.colab.kernel.accessAllowed ? 'block' : 'none';\n",
              "\n",
              "        async function convertToInteractive(key) {\n",
              "          const element = document.querySelector('#df-5143bc35-a047-4806-b4bb-1db91bbd16dd');\n",
              "          const dataTable =\n",
              "            await google.colab.kernel.invokeFunction('convertToInteractive',\n",
              "                                                     [key], {});\n",
              "          if (!dataTable) return;\n",
              "\n",
              "          const docLinkHtml = 'Like what you see? Visit the ' +\n",
              "            '<a target=\"_blank\" href=https://colab.research.google.com/notebooks/data_table.ipynb>data table notebook</a>'\n",
              "            + ' to learn more about interactive tables.';\n",
              "          element.innerHTML = '';\n",
              "          dataTable['output_type'] = 'display_data';\n",
              "          await google.colab.output.renderOutput(dataTable, element);\n",
              "          const docLink = document.createElement('div');\n",
              "          docLink.innerHTML = docLinkHtml;\n",
              "          element.appendChild(docLink);\n",
              "        }\n",
              "      </script>\n",
              "    </div>\n",
              "  </div>\n",
              "  "
            ]
          },
          "metadata": {},
          "execution_count": 21
        }
      ]
    },
    {
      "cell_type": "markdown",
      "source": [
        "#### Обучение моделей"
      ],
      "metadata": {
        "id": "diZM-IsO2DDm"
      }
    },
    {
      "cell_type": "markdown",
      "source": [
        "Функция делящая n элементов на нужное количество фолдов"
      ],
      "metadata": {
        "id": "qA4ozGxh2HNc"
      }
    },
    {
      "cell_type": "code",
      "source": [
        "def kfold_split(num_objects, num_folds):\n",
        "    ans = []\n",
        "    count = num_objects // num_folds\n",
        "    mas = np.arange(num_objects)\n",
        "    i = 0\n",
        "    for i in range(0, count * (num_folds - 1), count):\n",
        "        ans.append((np.hstack([mas[:i], mas[i+count:]]), mas[i:i + count]))\n",
        "    else:\n",
        "        i += count\n",
        "        ans.append((mas[:i], mas[i:]))\n",
        "    return ans"
      ],
      "metadata": {
        "id": "QVOVI09TCTSc"
      },
      "execution_count": 22,
      "outputs": []
    },
    {
      "cell_type": "markdown",
      "source": [
        "### Анализ признаков "
      ],
      "metadata": {
        "id": "XF5EqyN5DkAi"
      }
    },
    {
      "cell_type": "markdown",
      "source": [
        "Сначала проведем кросс-валидацию по каждому столбцу отдельно и посмотрим какие столбцы дудут наилучший результат"
      ],
      "metadata": {
        "id": "-Zrm-uAbGgUB"
      }
    },
    {
      "cell_type": "markdown",
      "source": [
        "##### Отбор через TimeSeriesForestClassifier"
      ],
      "metadata": {
        "id": "s3t24tmcO3ta"
      }
    },
    {
      "cell_type": "code",
      "source": [
        "tf_ans = dict()\n",
        "folds = kfold_split(len(X_train), 3)\n",
        "for i in range(27):\n",
        "    for k in np.logspace(1, 3, 10):\n",
        "        metrics = 0\n",
        "        for datas in folds:\n",
        "            X_train_cv = X_train.iloc[datas[0]]\n",
        "            y_train_cv = y_train[datas[0]]\n",
        "            X_test_cv = X_train.iloc[datas[1]]\n",
        "            y_test_cv = y_train[datas[1]]\n",
        "            clf = ColumnEnsembleClassifier(\n",
        "                estimators=[\n",
        "                    (\"TSF\", TimeSeriesForestClassifier(n_estimators=int(k)), [i]),\n",
        "                ]\n",
        "            )\n",
        "            clf.fit(X_train_cv, y_train_cv)\n",
        "            metrics += clf.score(X_test_cv, y_test_cv)\n",
        "        tf_ans[(i, int(k))] = metrics / len(folds)"
      ],
      "metadata": {
        "id": "PvXyz3cRGfZJ"
      },
      "execution_count": 23,
      "outputs": []
    },
    {
      "cell_type": "markdown",
      "source": [
        "Посмотрим на столбцы, по которым модель наиболее эффективно определяет зараженность ВМ"
      ],
      "metadata": {
        "id": "MfKJwrdYOBl2"
      }
    },
    {
      "cell_type": "code",
      "source": [
        "final_dict = {k:v for k, v in tf_ans.items() if v > 0.7}\n",
        "tf_cols = list(set(i[0] for i in list(final_dict.keys())))\n",
        "sk_frame.columns[tf_cols]"
      ],
      "metadata": {
        "colab": {
          "base_uri": "https://localhost:8080/"
        },
        "id": "ockdERIoMLml",
        "outputId": "4f830692-2a31-43cc-83a1-fd7f41442af9"
      },
      "execution_count": 24,
      "outputs": [
        {
          "output_type": "execute_result",
          "data": {
            "text/plain": [
              "Index(['libvirt_domain_block_stats_flush_requests_total',\n",
              "       'libvirt_domain_block_stats_flush_time_seconds_total',\n",
              "       'libvirt_domain_block_stats_read_bytes_total',\n",
              "       'libvirt_domain_block_stats_read_requests_total',\n",
              "       'libvirt_domain_block_stats_read_time_seconds_total',\n",
              "       'libvirt_domain_block_stats_write_bytes_total',\n",
              "       'libvirt_domain_block_stats_write_requests_total',\n",
              "       'libvirt_domain_block_stats_write_time_seconds_total',\n",
              "       'libvirt_domain_info_cpu_time_seconds_total',\n",
              "       'libvirt_domain_interface_stats_receive_bytes_total',\n",
              "       'libvirt_domain_interface_stats_receive_packets_total',\n",
              "       'libvirt_domain_interface_stats_transmit_bytes_total',\n",
              "       'libvirt_domain_interface_stats_transmit_packets_total ',\n",
              "       'libvirt_domain_memory_stats_major_fault_total',\n",
              "       'libvirt_domain_memory_stats_minor_fault_total',\n",
              "       'libvirt_domain_memory_stats_rss_bytes',\n",
              "       'libvirt_domain_memory_stats_unused_bytes',\n",
              "       'libvirt_domain_memory_stats_usable_bytes',\n",
              "       'libvirt_domain_memory_stats_used_percent', 'libvirt_domain_vcpu_cpu',\n",
              "       'libvirt_domain_vcpu_time_seconds_total'],\n",
              "      dtype='object')"
            ]
          },
          "metadata": {},
          "execution_count": 24
        }
      ]
    },
    {
      "cell_type": "markdown",
      "source": [
        "##### Отбор через KNeighborsTimeSeriesClassifier"
      ],
      "metadata": {
        "id": "qfP8EgcYPAlk"
      }
    },
    {
      "cell_type": "code",
      "source": [
        "knn_ans = dict()\n",
        "folds = kfold_split(len(X_train), 3)\n",
        "for i in range(27):\n",
        "    for k in [1, 3, 5, 7, 9]:\n",
        "        metrics = 0\n",
        "        for datas in folds:\n",
        "            X_train_cv = X_train.iloc[datas[0]]\n",
        "            y_train_cv = y_train[datas[0]]\n",
        "            X_test_cv = X_train.iloc[datas[1]]\n",
        "            y_test_cv = y_train[datas[1]]\n",
        "            clf = ColumnEnsembleClassifier(\n",
        "                estimators=[\n",
        "                    (\"TSF\", KNeighborsTimeSeriesClassifier(n_neighbors=int(k)), [i]),\n",
        "                ]\n",
        "            )\n",
        "            clf.fit(X_train_cv, y_train_cv)\n",
        "            metrics += clf.score(X_test_cv, y_test_cv)\n",
        "        knn_ans[(i, int(k))] = metrics / len(folds)"
      ],
      "metadata": {
        "id": "gqEBzonRPM9D"
      },
      "execution_count": 25,
      "outputs": []
    },
    {
      "cell_type": "markdown",
      "source": [
        "Посмотрим на столбцы, по которым модель наиболее эффективно определяет зараженность ВМ"
      ],
      "metadata": {
        "id": "fUuAj7RcPM9K"
      }
    },
    {
      "cell_type": "code",
      "source": [
        "final_dict = {k:v for k, v in knn_ans.items() if v > 0.7}\n",
        "knn_cols = list(set(i[0] for i in list(final_dict.keys())))\n",
        "sk_frame.columns[knn_cols]"
      ],
      "metadata": {
        "colab": {
          "base_uri": "https://localhost:8080/"
        },
        "outputId": "51753f1a-b87d-4488-98ac-6b2c352017d0",
        "id": "75s8ct7TPM9P"
      },
      "execution_count": 26,
      "outputs": [
        {
          "output_type": "execute_result",
          "data": {
            "text/plain": [
              "Index(['libvirt_domain_block_stats_flush_requests_total',\n",
              "       'libvirt_domain_block_stats_flush_time_seconds_total',\n",
              "       'libvirt_domain_block_stats_read_bytes_total',\n",
              "       'libvirt_domain_block_stats_read_requests_total',\n",
              "       'libvirt_domain_block_stats_read_time_seconds_total',\n",
              "       'libvirt_domain_block_stats_write_bytes_total',\n",
              "       'libvirt_domain_block_stats_write_requests_total',\n",
              "       'libvirt_domain_block_stats_write_time_seconds_total',\n",
              "       'libvirt_domain_info_cpu_time_seconds_total',\n",
              "       'libvirt_domain_interface_stats_receive_bytes_total',\n",
              "       'libvirt_domain_interface_stats_receive_packets_total',\n",
              "       'libvirt_domain_interface_stats_transmit_bytes_total',\n",
              "       'libvirt_domain_interface_stats_transmit_packets_total ',\n",
              "       'libvirt_domain_memory_stats_major_fault_total',\n",
              "       'libvirt_domain_memory_stats_minor_fault_total',\n",
              "       'libvirt_domain_memory_stats_rss_bytes',\n",
              "       'libvirt_domain_memory_stats_unused_bytes',\n",
              "       'libvirt_domain_memory_stats_usable_bytes',\n",
              "       'libvirt_domain_memory_stats_used_percent', 'libvirt_domain_vcpu_cpu',\n",
              "       'libvirt_domain_vcpu_time_seconds_total'],\n",
              "      dtype='object')"
            ]
          },
          "metadata": {},
          "execution_count": 26
        }
      ]
    },
    {
      "cell_type": "markdown",
      "source": [
        "##### Агрегирование результатов отбора с двух разных моделей"
      ],
      "metadata": {
        "id": "0Upwi-97SbLg"
      }
    },
    {
      "cell_type": "markdown",
      "source": [
        "Таким образом мы получили наиболее информативные столбцы для отслеживания."
      ],
      "metadata": {
        "id": "pBYyz4nWiPaf"
      }
    },
    {
      "cell_type": "code",
      "source": [
        "inter = list(set(tf_cols).intersection(knn_cols))\n",
        "sk_frame.columns[inter]"
      ],
      "metadata": {
        "colab": {
          "base_uri": "https://localhost:8080/"
        },
        "id": "A2cdwygkSnu8",
        "outputId": "37b911ce-6457-4006-da5f-183c043c4b86"
      },
      "execution_count": 27,
      "outputs": [
        {
          "output_type": "execute_result",
          "data": {
            "text/plain": [
              "Index(['libvirt_domain_block_stats_flush_requests_total',\n",
              "       'libvirt_domain_block_stats_flush_time_seconds_total',\n",
              "       'libvirt_domain_block_stats_read_bytes_total',\n",
              "       'libvirt_domain_block_stats_read_requests_total',\n",
              "       'libvirt_domain_block_stats_read_time_seconds_total',\n",
              "       'libvirt_domain_block_stats_write_bytes_total',\n",
              "       'libvirt_domain_block_stats_write_requests_total',\n",
              "       'libvirt_domain_block_stats_write_time_seconds_total',\n",
              "       'libvirt_domain_info_cpu_time_seconds_total',\n",
              "       'libvirt_domain_interface_stats_receive_bytes_total',\n",
              "       'libvirt_domain_interface_stats_receive_packets_total',\n",
              "       'libvirt_domain_interface_stats_transmit_bytes_total',\n",
              "       'libvirt_domain_interface_stats_transmit_packets_total ',\n",
              "       'libvirt_domain_memory_stats_major_fault_total',\n",
              "       'libvirt_domain_memory_stats_minor_fault_total',\n",
              "       'libvirt_domain_memory_stats_rss_bytes',\n",
              "       'libvirt_domain_memory_stats_unused_bytes',\n",
              "       'libvirt_domain_memory_stats_usable_bytes',\n",
              "       'libvirt_domain_memory_stats_used_percent', 'libvirt_domain_vcpu_cpu',\n",
              "       'libvirt_domain_vcpu_time_seconds_total'],\n",
              "      dtype='object')"
            ]
          },
          "metadata": {},
          "execution_count": 27
        }
      ]
    },
    {
      "cell_type": "markdown",
      "source": [
        "### Обучение и тестирование моделей"
      ],
      "metadata": {
        "id": "PM1V9UrlB07S"
      }
    },
    {
      "cell_type": "markdown",
      "source": [
        "#### ColumnConcatenator"
      ],
      "metadata": {
        "id": "tkw9-i3k2oxe"
      }
    },
    {
      "cell_type": "markdown",
      "source": [
        "Мы можем объединить многомерные временные ряды/панельные данные в длинные одномерные временные ряды/панели, а затем применить классификатор к одномерным данным. "
      ],
      "metadata": {
        "id": "toyrAG9c2UAx"
      }
    },
    {
      "cell_type": "markdown",
      "source": [
        "##### TimeSeriesForestClassifier"
      ],
      "metadata": {
        "id": "qGEuTWeK_qFI"
      }
    },
    {
      "cell_type": "markdown",
      "source": [
        "1) кросс-валидация"
      ],
      "metadata": {
        "id": "OHXKfj3F2cJ1"
      }
    },
    {
      "cell_type": "code",
      "source": [
        "ans = {}\n",
        "folds = kfold_split(len(X_train), 3)\n",
        "for k in np.logspace(1, 3, 10):\n",
        "    metrics = 0\n",
        "    for datas in folds:\n",
        "        X_train_cv = X_train.iloc[:, inter].iloc[datas[0]]\n",
        "        y_train_cv = y_train[datas[0]]\n",
        "        X_test_cv = X_train.iloc[:, inter].iloc[datas[1]]\n",
        "        y_test_cv = y_train[datas[1]]\n",
        "        steps = [\n",
        "            (\"concatenate\", ColumnConcatenator()),\n",
        "            (\"classify\", TimeSeriesForestClassifier(n_estimators=int(k))),\n",
        "        ]        \n",
        "        clf = Pipeline(steps)\n",
        "        clf.fit(X_train_cv, y_train_cv)\n",
        "        metrics += clf.score(X_test_cv, y_test_cv)\n",
        "    ans[int(k)] = metrics / len(folds)\n"
      ],
      "metadata": {
        "id": "82FJx-4hiLtX"
      },
      "execution_count": 28,
      "outputs": []
    },
    {
      "cell_type": "markdown",
      "source": [
        "2) поиск наилучшего значения"
      ],
      "metadata": {
        "id": "4Wl6DsYR2eXb"
      }
    },
    {
      "cell_type": "code",
      "source": [
        "max_val = max(ans.values())\n",
        "final_dict = {k:v for k, v in ans.items() if v == max_val}\n",
        "final_dict"
      ],
      "metadata": {
        "colab": {
          "base_uri": "https://localhost:8080/"
        },
        "id": "ew8teATh0G01",
        "outputId": "40a1ff02-ae24-447b-c740-a5ea284e57fa"
      },
      "execution_count": 29,
      "outputs": [
        {
          "output_type": "execute_result",
          "data": {
            "text/plain": [
              "{10: 1.0, 77: 1.0}"
            ]
          },
          "metadata": {},
          "execution_count": 29
        }
      ]
    },
    {
      "cell_type": "markdown",
      "source": [
        "3) обучение и тест"
      ],
      "metadata": {
        "id": "ZlD5Qryr2hK4"
      }
    },
    {
      "cell_type": "code",
      "source": [
        "steps = [\n",
        "    (\"concatenate\", ColumnConcatenator()),\n",
        "    (\"classify\", TimeSeriesForestClassifier(n_estimators=77)),\n",
        "]        \n",
        "clf = Pipeline(steps)\n",
        "clf.fit(X_train.iloc[:, inter], y_train)\n",
        "clf.score(X_test.iloc[:, inter], y_test)"
      ],
      "metadata": {
        "colab": {
          "base_uri": "https://localhost:8080/"
        },
        "id": "y7hWdu_00I0N",
        "outputId": "29cdd29a-1a3a-4d33-f496-d02b18e3376a"
      },
      "execution_count": 44,
      "outputs": [
        {
          "output_type": "execute_result",
          "data": {
            "text/plain": [
              "0.8"
            ]
          },
          "metadata": {},
          "execution_count": 44
        }
      ]
    },
    {
      "cell_type": "code",
      "source": [
        "clf.predict(X_test.iloc[:, inter]), y_test"
      ],
      "metadata": {
        "colab": {
          "base_uri": "https://localhost:8080/"
        },
        "id": "5F0rbAGJg-5r",
        "outputId": "58fd4146-8c2a-4fb4-c331-700ea5702a0b"
      },
      "execution_count": 31,
      "outputs": [
        {
          "output_type": "execute_result",
          "data": {
            "text/plain": [
              "(array([0, 0, 0, 0, 0, 0, 0, 0, 0, 0, 0, 0, 1, 0, 0, 0, 1, 0, 0, 0]),\n",
              " array([0., 0., 1., 0., 0., 1., 0., 0., 0., 0., 1., 0., 0., 0., 0., 0., 0.,\n",
              "        0., 0., 0.]))"
            ]
          },
          "metadata": {},
          "execution_count": 31
        }
      ]
    },
    {
      "cell_type": "markdown",
      "source": [
        "##### KNeighborsTimeSeriesClassifier"
      ],
      "metadata": {
        "id": "nGVISJklACoI"
      }
    },
    {
      "cell_type": "markdown",
      "source": [
        "1) кросс-валидация"
      ],
      "metadata": {
        "id": "9PzWdBFgAG6g"
      }
    },
    {
      "cell_type": "code",
      "source": [
        "ans = {}\n",
        "folds = kfold_split(len(X_train), 3)\n",
        "for k in [1,3,5,7,9]:\n",
        "    metrics = 0\n",
        "    for datas in folds:\n",
        "        X_train_cv = X_train.iloc[:, inter].iloc[datas[0]]\n",
        "        y_train_cv = y_train[datas[0]]\n",
        "        X_test_cv = X_train.iloc[:, inter].iloc[datas[1]]\n",
        "        y_test_cv = y_train[datas[1]]\n",
        "        steps = [\n",
        "            (\"concatenate\", ColumnConcatenator()),\n",
        "            (\"classify\", KNeighborsTimeSeriesClassifier(n_neighbors=int(k))),\n",
        "        ]        \n",
        "        clf = Pipeline(steps)\n",
        "        clf.fit(X_train_cv, y_train_cv)\n",
        "        metrics += clf.score(X_test_cv, y_test_cv)\n",
        "    ans[int(k)] = metrics / len(folds)\n"
      ],
      "metadata": {
        "id": "qeQl0u71AG6j"
      },
      "execution_count": 32,
      "outputs": []
    },
    {
      "cell_type": "markdown",
      "source": [
        "2) поиск наилучшего значения k"
      ],
      "metadata": {
        "id": "W2FRrk8IAG6n"
      }
    },
    {
      "cell_type": "code",
      "source": [
        "max_val = max(ans.values())\n",
        "final_dict = {k:v for k, v in ans.items() if v == max_val}\n",
        "final_dict"
      ],
      "metadata": {
        "colab": {
          "base_uri": "https://localhost:8080/"
        },
        "outputId": "d860a580-5783-4b75-ecaf-5d15eb797d83",
        "id": "OjprJCdgAG6r"
      },
      "execution_count": 33,
      "outputs": [
        {
          "output_type": "execute_result",
          "data": {
            "text/plain": [
              "{1: 0.9259259259259259}"
            ]
          },
          "metadata": {},
          "execution_count": 33
        }
      ]
    },
    {
      "cell_type": "markdown",
      "source": [
        "3) обучение и тест"
      ],
      "metadata": {
        "id": "CROB0v7kAG6u"
      }
    },
    {
      "cell_type": "code",
      "source": [
        "steps = [\n",
        "    (\"concatenate\", ColumnConcatenator()),\n",
        "    (\"classify\", KNeighborsTimeSeriesClassifier(n_neighbors=1)),\n",
        "]        \n",
        "clf = Pipeline(steps)\n",
        "clf.fit(X_train.iloc[:, inter], y_train)\n",
        "clf.score(X_test.iloc[:, inter], y_test)"
      ],
      "metadata": {
        "colab": {
          "base_uri": "https://localhost:8080/"
        },
        "outputId": "0258d719-d811-46e6-b92d-c496ecd76427",
        "id": "5inpWHYmAG6y"
      },
      "execution_count": 34,
      "outputs": [
        {
          "output_type": "execute_result",
          "data": {
            "text/plain": [
              "0.15"
            ]
          },
          "metadata": {},
          "execution_count": 34
        }
      ]
    },
    {
      "cell_type": "code",
      "source": [
        "clf.predict(X_test.iloc[:, inter]), y_test"
      ],
      "metadata": {
        "colab": {
          "base_uri": "https://localhost:8080/"
        },
        "id": "0YxMzET1g9b2",
        "outputId": "cac35140-4b67-4d7e-f953-babc38dd5cc8"
      },
      "execution_count": 35,
      "outputs": [
        {
          "output_type": "execute_result",
          "data": {
            "text/plain": [
              "(array([1, 1, 1, 1, 1, 1, 1, 1, 1, 1, 1, 1, 1, 1, 1, 1, 1, 1, 1, 1]),\n",
              " array([0., 0., 1., 0., 0., 1., 0., 0., 0., 0., 1., 0., 0., 0., 0., 0., 0.,\n",
              "        0., 0., 0.]))"
            ]
          },
          "metadata": {},
          "execution_count": 35
        }
      ]
    },
    {
      "cell_type": "markdown",
      "source": [
        "#### ColumnEnsembleClassifier"
      ],
      "metadata": {
        "id": "2kBl9kzW2wM8"
      }
    },
    {
      "cell_type": "markdown",
      "source": [
        "Мы также можем подобрать один классификатор для определенных столбцов временных рядов, а затем агрегировать их прогнозы."
      ],
      "metadata": {
        "id": "55A-K6_f210j"
      }
    },
    {
      "cell_type": "markdown",
      "source": [
        "##### TimeSeriesForestClassifier"
      ],
      "metadata": {
        "id": "n6G1okvwHfSs"
      }
    },
    {
      "cell_type": "markdown",
      "source": [
        "1) Кросс валидация"
      ],
      "metadata": {
        "id": "nUFt5wuC3WOI"
      }
    },
    {
      "cell_type": "code",
      "source": [
        "ans = {}\n",
        "folds = kfold_split(len(X_train), 3)\n",
        "for k in np.logspace(1, 3, 10):\n",
        "    metrics = 0\n",
        "    for datas in folds:\n",
        "        X_train_cv = X_train.iloc[:, inter].iloc[datas[0]]\n",
        "        y_train_cv = y_train[datas[0]]\n",
        "        X_test_cv = X_train.iloc[:, inter].iloc[datas[1]]\n",
        "        y_test_cv = y_train[datas[1]]\n",
        "        clf = ColumnEnsembleClassifier(\n",
        "            estimators=[\n",
        "                (\"TSF\" + str(i), TimeSeriesForestClassifier(n_estimators=int(k)), [i]) for i in range(len(inter))\n",
        "            ]\n",
        "        )\n",
        "        clf.fit(X_train_cv, y_train_cv)\n",
        "        metrics += clf.score(X_test_cv, y_test_cv)\n",
        "    ans[int(k)] = metrics / len(folds)"
      ],
      "metadata": {
        "id": "F8UhLslsyJjW"
      },
      "execution_count": 36,
      "outputs": []
    },
    {
      "cell_type": "markdown",
      "source": [
        "2) Поиск наилучшего k"
      ],
      "metadata": {
        "id": "Lpj6qNYmFrR5"
      }
    },
    {
      "cell_type": "code",
      "source": [
        "max_val = max(ans.values())\n",
        "final_dict = {k:v for k, v in ans.items() if v == max_val}\n",
        "final_dict"
      ],
      "metadata": {
        "colab": {
          "base_uri": "https://localhost:8080/"
        },
        "id": "hjX0sgYrFvm9",
        "outputId": "dfa99453-590d-41f6-e2fa-45395c6092a8"
      },
      "execution_count": 37,
      "outputs": [
        {
          "output_type": "execute_result",
          "data": {
            "text/plain": [
              "{10: 1.0,\n",
              " 16: 1.0,\n",
              " 27: 1.0,\n",
              " 46: 1.0,\n",
              " 77: 1.0,\n",
              " 129: 1.0,\n",
              " 215: 1.0,\n",
              " 359: 1.0,\n",
              " 599: 1.0,\n",
              " 1000: 1.0}"
            ]
          },
          "metadata": {},
          "execution_count": 37
        }
      ]
    },
    {
      "cell_type": "markdown",
      "source": [
        "3) Обучение и тест"
      ],
      "metadata": {
        "id": "CJBGp1TA3caZ"
      }
    },
    {
      "cell_type": "code",
      "source": [
        "clf = ColumnEnsembleClassifier(\n",
        "    estimators=[\n",
        "        (\"TSF\" + str(i), TimeSeriesForestClassifier(n_estimators=int(100)), [i]) for i in range(len(inter))\n",
        "    ]\n",
        ")\n",
        "clf.fit(X_train.iloc[:, inter], y_train)\n",
        "clf.score(X_test.iloc[:, inter], y_test)"
      ],
      "metadata": {
        "colab": {
          "base_uri": "https://localhost:8080/"
        },
        "id": "wtYNAPN0yfvT",
        "outputId": "dea0dcf5-bb8a-486c-c5b1-3ac5f8b479a9"
      },
      "execution_count": 38,
      "outputs": [
        {
          "output_type": "execute_result",
          "data": {
            "text/plain": [
              "0.25"
            ]
          },
          "metadata": {},
          "execution_count": 38
        }
      ]
    },
    {
      "cell_type": "code",
      "source": [
        "clf.predict(X_test.iloc[:, inter]), y_test"
      ],
      "metadata": {
        "colab": {
          "base_uri": "https://localhost:8080/"
        },
        "id": "HFXOHBdjgzdy",
        "outputId": "649c1b70-9630-4af9-d605-94c000eb4746"
      },
      "execution_count": 39,
      "outputs": [
        {
          "output_type": "execute_result",
          "data": {
            "text/plain": [
              "(array([1, 1, 1, 1, 1, 1, 1, 1, 1, 1, 1, 1, 1, 1, 1, 1, 1, 0, 0, 1]),\n",
              " array([0., 0., 1., 0., 0., 1., 0., 0., 0., 0., 1., 0., 0., 0., 0., 0., 0.,\n",
              "        0., 0., 0.]))"
            ]
          },
          "metadata": {},
          "execution_count": 39
        }
      ]
    },
    {
      "cell_type": "markdown",
      "source": [
        "##### KNeighborsTimeSeriesClassifier"
      ],
      "metadata": {
        "id": "unc6Aq3hHlI8"
      }
    },
    {
      "cell_type": "markdown",
      "source": [
        "1) Кросс валидация"
      ],
      "metadata": {
        "id": "x2-mJ3ixHuuP"
      }
    },
    {
      "cell_type": "code",
      "source": [
        "ans = {}\n",
        "folds = kfold_split(len(X_train), 3)\n",
        "for k in [1,3,5,7,9]:\n",
        "    metrics = 0\n",
        "    for datas in folds:\n",
        "        X_train_cv = X_train.iloc[:, inter].iloc[datas[0]]\n",
        "        y_train_cv = y_train[datas[0]]\n",
        "        X_test_cv = X_train.iloc[:, inter].iloc[datas[1]]\n",
        "        y_test_cv = y_train[datas[1]]\n",
        "        clf = ColumnEnsembleClassifier(\n",
        "            estimators=[\n",
        "                (\"TSF\" + str(i), KNeighborsTimeSeriesClassifier(n_neighbors=int(k)), [i]) for i in range(len(inter))\n",
        "            ]\n",
        "\n",
        "        )\n",
        "        clf.fit(X_train_cv, y_train_cv)\n",
        "        metrics += clf.score(X_test_cv, y_test_cv)\n",
        "    ans[int(k)] = metrics / len(folds)"
      ],
      "metadata": {
        "id": "3U3hlB0KHuuT"
      },
      "execution_count": 40,
      "outputs": []
    },
    {
      "cell_type": "markdown",
      "source": [
        "2) Поиск наилучшего k"
      ],
      "metadata": {
        "id": "oTp8qeVdHuuZ"
      }
    },
    {
      "cell_type": "code",
      "source": [
        "max_val = max(ans.values())\n",
        "final_dict = {k:v for k, v in ans.items() if v == max_val}\n",
        "final_dict"
      ],
      "metadata": {
        "colab": {
          "base_uri": "https://localhost:8080/"
        },
        "id": "blmG_s4tHuue",
        "outputId": "9dab34fe-a786-46a0-c5c1-5b6b07d5ef70"
      },
      "execution_count": 41,
      "outputs": [
        {
          "output_type": "execute_result",
          "data": {
            "text/plain": [
              "{1: 1.0, 3: 1.0}"
            ]
          },
          "metadata": {},
          "execution_count": 41
        }
      ]
    },
    {
      "cell_type": "markdown",
      "source": [
        "3) Обучение и тест"
      ],
      "metadata": {
        "id": "s68YExy-Huuh"
      }
    },
    {
      "cell_type": "code",
      "source": [
        "clf = ColumnEnsembleClassifier(\n",
        "    estimators=[\n",
        "        (\"TSF\" + str(i), KNeighborsTimeSeriesClassifier(n_neighbors=int(1)), [i]) for i in range(len(inter))\n",
        "    ]\n",
        ")\n",
        "clf.fit(X_train.iloc[:, inter], y_train)\n",
        "clf.score(X_test.iloc[:, inter], y_test)"
      ],
      "metadata": {
        "colab": {
          "base_uri": "https://localhost:8080/"
        },
        "outputId": "ad3106a6-5107-43d8-e4ee-8b5dc90a3deb",
        "id": "6d4YAXkzHuuj"
      },
      "execution_count": 42,
      "outputs": [
        {
          "output_type": "execute_result",
          "data": {
            "text/plain": [
              "0.2"
            ]
          },
          "metadata": {},
          "execution_count": 42
        }
      ]
    },
    {
      "cell_type": "code",
      "source": [
        "clf.predict(X_test.iloc[:, inter]), y_test"
      ],
      "metadata": {
        "colab": {
          "base_uri": "https://localhost:8080/"
        },
        "id": "tf93U3cbglht",
        "outputId": "c8341817-6351-4659-eaf2-b5bc0683b274"
      },
      "execution_count": 43,
      "outputs": [
        {
          "output_type": "execute_result",
          "data": {
            "text/plain": [
              "(array([1, 1, 1, 1, 1, 1, 1, 1, 1, 1, 1, 1, 1, 1, 1, 1, 1, 0, 1, 1]),\n",
              " array([0., 0., 1., 0., 0., 1., 0., 0., 0., 0., 1., 0., 0., 0., 0., 0., 0.,\n",
              "        0., 0., 0.]))"
            ]
          },
          "metadata": {},
          "execution_count": 43
        }
      ]
    },
    {
      "cell_type": "code",
      "source": [
        ""
      ],
      "metadata": {
        "id": "YcB3hiQygrs0"
      },
      "execution_count": 43,
      "outputs": []
    }
  ]
}